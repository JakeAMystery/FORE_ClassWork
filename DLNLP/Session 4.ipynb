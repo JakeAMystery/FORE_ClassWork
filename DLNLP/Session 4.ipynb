{
  "nbformat": 4,
  "nbformat_minor": 0,
  "metadata": {
    "colab": {
      "provenance": [],
      "include_colab_link": true
    },
    "kernelspec": {
      "name": "python3",
      "display_name": "Python 3"
    },
    "language_info": {
      "name": "python"
    }
  },
  "cells": [
    {
      "cell_type": "markdown",
      "metadata": {
        "id": "view-in-github",
        "colab_type": "text"
      },
      "source": [
        "<a href=\"https://colab.research.google.com/github/JakeAMystery/FORE_ClassWork/blob/main/DLNLP/Session%204.ipynb\" target=\"_parent\"><img src=\"https://colab.research.google.com/assets/colab-badge.svg\" alt=\"Open In Colab\"/></a>"
      ]
    },
    {
      "cell_type": "code",
      "source": [
        "# Last amended: 12th Nov, 2022\n",
        "# **********************************************************\n",
        "# BETTER SEE THE OTHER FILE: simpleNN churn_prediction.ipynb\n",
        "#***********************************************************\n",
        "# Bank churn modeling dataset\n",
        "# Experiments with NN\n",
        "# https://www.kaggle.com/code/kmalit/bank-customer-churn-prediction/data"
      ],
      "metadata": {
        "id": "VDuKXUJ_L8S2"
      },
      "execution_count": null,
      "outputs": []
    },
    {
      "cell_type": "code",
      "execution_count": 46,
      "metadata": {
        "id": "t4NDs_JPESg_"
      },
      "outputs": [],
      "source": [
        "# 1.0\n",
        "import pandas as pd\n",
        "from sklearn.preprocessing import StandardScaler, MinMaxScaler\n",
        "from sklearn.preprocessing import LabelEncoder, OneHotEncoder\n",
        "from sklearn.model_selection import train_test_split\n",
        "\n",
        "# 1.1\n",
        "import tensorflow as tf\n",
        "from tensorflow.keras.utils import plot_model\n",
        "\n",
        "# 1.2 Helper libraries\n",
        "import numpy as np\n",
        "import matplotlib.pyplot as plt\n"
      ]
    },
    {
      "cell_type": "code",
      "source": [
        "from IPython.core.interactiveshell import InteractiveShell\n",
        "InteractiveShell.ast_node_interactivity = \"all\"\n"
      ],
      "metadata": {
        "id": "s1Efxo5Qp62F"
      },
      "execution_count": 2,
      "outputs": []
    },
    {
      "cell_type": "code",
      "source": [
        "# 2.0 Mount google drive\n",
        "from google.colab import drive\n",
        "drive.mount('/gdrive')"
      ],
      "metadata": {
        "id": "11UKqlGTu9ka",
        "outputId": "c746dbdc-98d3-4e02-cec4-f930e1ee42a5",
        "colab": {
          "base_uri": "https://localhost:8080/"
        }
      },
      "execution_count": 3,
      "outputs": [
        {
          "output_type": "stream",
          "name": "stdout",
          "text": [
            "Mounted at /gdrive\n"
          ]
        }
      ]
    },
    {
      "cell_type": "code",
      "source": [
        "# 2.1 Read Bank Customers churn data\n",
        "\n",
        "path = \"/gdrive/MyDrive/Deep Learning/\"\n"
      ],
      "metadata": {
        "id": "e_KwcYMREcUy"
      },
      "execution_count": 4,
      "outputs": []
    },
    {
      "cell_type": "code",
      "source": [
        "# 2.2\n",
        "data = pd.read_csv(path + \"churn_modelling.csv\")"
      ],
      "metadata": {
        "id": "lnhu8ZR5wznf"
      },
      "execution_count": 5,
      "outputs": []
    },
    {
      "cell_type": "code",
      "source": [
        "# 2.2.1\n",
        "data.head()"
      ],
      "metadata": {
        "id": "kV5KxQnLvimq",
        "outputId": "3c21f401-093d-49e7-a5bb-29c9afbf1f2d",
        "colab": {
          "base_uri": "https://localhost:8080/",
          "height": 250
        }
      },
      "execution_count": 6,
      "outputs": [
        {
          "output_type": "execute_result",
          "data": {
            "text/plain": [
              "   RowNumber  CustomerId   Surname  CreditScore Geography  Gender  Age  \\\n",
              "0          1    15634602  Hargrave          619    France  Female   42   \n",
              "1          2    15647311      Hill          608     Spain  Female   41   \n",
              "2          3    15619304      Onio          502    France  Female   42   \n",
              "3          4    15701354      Boni          699    France  Female   39   \n",
              "4          5    15737888  Mitchell          850     Spain  Female   43   \n",
              "\n",
              "   Tenure    Balance  NumOfProducts  HasCrCard  IsActiveMember  \\\n",
              "0       2       0.00              1          1               1   \n",
              "1       1   83807.86              1          0               1   \n",
              "2       8  159660.80              3          1               0   \n",
              "3       1       0.00              2          0               0   \n",
              "4       2  125510.82              1          1               1   \n",
              "\n",
              "   EstimatedSalary  Exited  \n",
              "0        101348.88       1  \n",
              "1        112542.58       0  \n",
              "2        113931.57       1  \n",
              "3         93826.63       0  \n",
              "4         79084.10       0  "
            ],
            "text/html": [
              "\n",
              "\n",
              "  <div id=\"df-3ca436ec-35cb-4e1a-b148-b457f4cb7647\">\n",
              "    <div class=\"colab-df-container\">\n",
              "      <div>\n",
              "<style scoped>\n",
              "    .dataframe tbody tr th:only-of-type {\n",
              "        vertical-align: middle;\n",
              "    }\n",
              "\n",
              "    .dataframe tbody tr th {\n",
              "        vertical-align: top;\n",
              "    }\n",
              "\n",
              "    .dataframe thead th {\n",
              "        text-align: right;\n",
              "    }\n",
              "</style>\n",
              "<table border=\"1\" class=\"dataframe\">\n",
              "  <thead>\n",
              "    <tr style=\"text-align: right;\">\n",
              "      <th></th>\n",
              "      <th>RowNumber</th>\n",
              "      <th>CustomerId</th>\n",
              "      <th>Surname</th>\n",
              "      <th>CreditScore</th>\n",
              "      <th>Geography</th>\n",
              "      <th>Gender</th>\n",
              "      <th>Age</th>\n",
              "      <th>Tenure</th>\n",
              "      <th>Balance</th>\n",
              "      <th>NumOfProducts</th>\n",
              "      <th>HasCrCard</th>\n",
              "      <th>IsActiveMember</th>\n",
              "      <th>EstimatedSalary</th>\n",
              "      <th>Exited</th>\n",
              "    </tr>\n",
              "  </thead>\n",
              "  <tbody>\n",
              "    <tr>\n",
              "      <th>0</th>\n",
              "      <td>1</td>\n",
              "      <td>15634602</td>\n",
              "      <td>Hargrave</td>\n",
              "      <td>619</td>\n",
              "      <td>France</td>\n",
              "      <td>Female</td>\n",
              "      <td>42</td>\n",
              "      <td>2</td>\n",
              "      <td>0.00</td>\n",
              "      <td>1</td>\n",
              "      <td>1</td>\n",
              "      <td>1</td>\n",
              "      <td>101348.88</td>\n",
              "      <td>1</td>\n",
              "    </tr>\n",
              "    <tr>\n",
              "      <th>1</th>\n",
              "      <td>2</td>\n",
              "      <td>15647311</td>\n",
              "      <td>Hill</td>\n",
              "      <td>608</td>\n",
              "      <td>Spain</td>\n",
              "      <td>Female</td>\n",
              "      <td>41</td>\n",
              "      <td>1</td>\n",
              "      <td>83807.86</td>\n",
              "      <td>1</td>\n",
              "      <td>0</td>\n",
              "      <td>1</td>\n",
              "      <td>112542.58</td>\n",
              "      <td>0</td>\n",
              "    </tr>\n",
              "    <tr>\n",
              "      <th>2</th>\n",
              "      <td>3</td>\n",
              "      <td>15619304</td>\n",
              "      <td>Onio</td>\n",
              "      <td>502</td>\n",
              "      <td>France</td>\n",
              "      <td>Female</td>\n",
              "      <td>42</td>\n",
              "      <td>8</td>\n",
              "      <td>159660.80</td>\n",
              "      <td>3</td>\n",
              "      <td>1</td>\n",
              "      <td>0</td>\n",
              "      <td>113931.57</td>\n",
              "      <td>1</td>\n",
              "    </tr>\n",
              "    <tr>\n",
              "      <th>3</th>\n",
              "      <td>4</td>\n",
              "      <td>15701354</td>\n",
              "      <td>Boni</td>\n",
              "      <td>699</td>\n",
              "      <td>France</td>\n",
              "      <td>Female</td>\n",
              "      <td>39</td>\n",
              "      <td>1</td>\n",
              "      <td>0.00</td>\n",
              "      <td>2</td>\n",
              "      <td>0</td>\n",
              "      <td>0</td>\n",
              "      <td>93826.63</td>\n",
              "      <td>0</td>\n",
              "    </tr>\n",
              "    <tr>\n",
              "      <th>4</th>\n",
              "      <td>5</td>\n",
              "      <td>15737888</td>\n",
              "      <td>Mitchell</td>\n",
              "      <td>850</td>\n",
              "      <td>Spain</td>\n",
              "      <td>Female</td>\n",
              "      <td>43</td>\n",
              "      <td>2</td>\n",
              "      <td>125510.82</td>\n",
              "      <td>1</td>\n",
              "      <td>1</td>\n",
              "      <td>1</td>\n",
              "      <td>79084.10</td>\n",
              "      <td>0</td>\n",
              "    </tr>\n",
              "  </tbody>\n",
              "</table>\n",
              "</div>\n",
              "      <button class=\"colab-df-convert\" onclick=\"convertToInteractive('df-3ca436ec-35cb-4e1a-b148-b457f4cb7647')\"\n",
              "              title=\"Convert this dataframe to an interactive table.\"\n",
              "              style=\"display:none;\">\n",
              "\n",
              "  <svg xmlns=\"http://www.w3.org/2000/svg\" height=\"24px\"viewBox=\"0 0 24 24\"\n",
              "       width=\"24px\">\n",
              "    <path d=\"M0 0h24v24H0V0z\" fill=\"none\"/>\n",
              "    <path d=\"M18.56 5.44l.94 2.06.94-2.06 2.06-.94-2.06-.94-.94-2.06-.94 2.06-2.06.94zm-11 1L8.5 8.5l.94-2.06 2.06-.94-2.06-.94L8.5 2.5l-.94 2.06-2.06.94zm10 10l.94 2.06.94-2.06 2.06-.94-2.06-.94-.94-2.06-.94 2.06-2.06.94z\"/><path d=\"M17.41 7.96l-1.37-1.37c-.4-.4-.92-.59-1.43-.59-.52 0-1.04.2-1.43.59L10.3 9.45l-7.72 7.72c-.78.78-.78 2.05 0 2.83L4 21.41c.39.39.9.59 1.41.59.51 0 1.02-.2 1.41-.59l7.78-7.78 2.81-2.81c.8-.78.8-2.07 0-2.86zM5.41 20L4 18.59l7.72-7.72 1.47 1.35L5.41 20z\"/>\n",
              "  </svg>\n",
              "      </button>\n",
              "\n",
              "\n",
              "\n",
              "    <div id=\"df-484988c0-bda4-4af5-b6fd-2705f3818220\">\n",
              "      <button class=\"colab-df-quickchart\" onclick=\"quickchart('df-484988c0-bda4-4af5-b6fd-2705f3818220')\"\n",
              "              title=\"Suggest charts.\"\n",
              "              style=\"display:none;\">\n",
              "\n",
              "<svg xmlns=\"http://www.w3.org/2000/svg\" height=\"24px\"viewBox=\"0 0 24 24\"\n",
              "     width=\"24px\">\n",
              "    <g>\n",
              "        <path d=\"M19 3H5c-1.1 0-2 .9-2 2v14c0 1.1.9 2 2 2h14c1.1 0 2-.9 2-2V5c0-1.1-.9-2-2-2zM9 17H7v-7h2v7zm4 0h-2V7h2v10zm4 0h-2v-4h2v4z\"/>\n",
              "    </g>\n",
              "</svg>\n",
              "      </button>\n",
              "    </div>\n",
              "\n",
              "<style>\n",
              "  .colab-df-quickchart {\n",
              "    background-color: #E8F0FE;\n",
              "    border: none;\n",
              "    border-radius: 50%;\n",
              "    cursor: pointer;\n",
              "    display: none;\n",
              "    fill: #1967D2;\n",
              "    height: 32px;\n",
              "    padding: 0 0 0 0;\n",
              "    width: 32px;\n",
              "  }\n",
              "\n",
              "  .colab-df-quickchart:hover {\n",
              "    background-color: #E2EBFA;\n",
              "    box-shadow: 0px 1px 2px rgba(60, 64, 67, 0.3), 0px 1px 3px 1px rgba(60, 64, 67, 0.15);\n",
              "    fill: #174EA6;\n",
              "  }\n",
              "\n",
              "  [theme=dark] .colab-df-quickchart {\n",
              "    background-color: #3B4455;\n",
              "    fill: #D2E3FC;\n",
              "  }\n",
              "\n",
              "  [theme=dark] .colab-df-quickchart:hover {\n",
              "    background-color: #434B5C;\n",
              "    box-shadow: 0px 1px 3px 1px rgba(0, 0, 0, 0.15);\n",
              "    filter: drop-shadow(0px 1px 2px rgba(0, 0, 0, 0.3));\n",
              "    fill: #FFFFFF;\n",
              "  }\n",
              "</style>\n",
              "\n",
              "    <script>\n",
              "      async function quickchart(key) {\n",
              "        const containerElement = document.querySelector('#' + key);\n",
              "        const charts = await google.colab.kernel.invokeFunction(\n",
              "            'suggestCharts', [key], {});\n",
              "      }\n",
              "    </script>\n",
              "\n",
              "      <script>\n",
              "\n",
              "function displayQuickchartButton(domScope) {\n",
              "  let quickchartButtonEl =\n",
              "    domScope.querySelector('#df-484988c0-bda4-4af5-b6fd-2705f3818220 button.colab-df-quickchart');\n",
              "  quickchartButtonEl.style.display =\n",
              "    google.colab.kernel.accessAllowed ? 'block' : 'none';\n",
              "}\n",
              "\n",
              "        displayQuickchartButton(document);\n",
              "      </script>\n",
              "      <style>\n",
              "    .colab-df-container {\n",
              "      display:flex;\n",
              "      flex-wrap:wrap;\n",
              "      gap: 12px;\n",
              "    }\n",
              "\n",
              "    .colab-df-convert {\n",
              "      background-color: #E8F0FE;\n",
              "      border: none;\n",
              "      border-radius: 50%;\n",
              "      cursor: pointer;\n",
              "      display: none;\n",
              "      fill: #1967D2;\n",
              "      height: 32px;\n",
              "      padding: 0 0 0 0;\n",
              "      width: 32px;\n",
              "    }\n",
              "\n",
              "    .colab-df-convert:hover {\n",
              "      background-color: #E2EBFA;\n",
              "      box-shadow: 0px 1px 2px rgba(60, 64, 67, 0.3), 0px 1px 3px 1px rgba(60, 64, 67, 0.15);\n",
              "      fill: #174EA6;\n",
              "    }\n",
              "\n",
              "    [theme=dark] .colab-df-convert {\n",
              "      background-color: #3B4455;\n",
              "      fill: #D2E3FC;\n",
              "    }\n",
              "\n",
              "    [theme=dark] .colab-df-convert:hover {\n",
              "      background-color: #434B5C;\n",
              "      box-shadow: 0px 1px 3px 1px rgba(0, 0, 0, 0.15);\n",
              "      filter: drop-shadow(0px 1px 2px rgba(0, 0, 0, 0.3));\n",
              "      fill: #FFFFFF;\n",
              "    }\n",
              "  </style>\n",
              "\n",
              "      <script>\n",
              "        const buttonEl =\n",
              "          document.querySelector('#df-3ca436ec-35cb-4e1a-b148-b457f4cb7647 button.colab-df-convert');\n",
              "        buttonEl.style.display =\n",
              "          google.colab.kernel.accessAllowed ? 'block' : 'none';\n",
              "\n",
              "        async function convertToInteractive(key) {\n",
              "          const element = document.querySelector('#df-3ca436ec-35cb-4e1a-b148-b457f4cb7647');\n",
              "          const dataTable =\n",
              "            await google.colab.kernel.invokeFunction('convertToInteractive',\n",
              "                                                     [key], {});\n",
              "          if (!dataTable) return;\n",
              "\n",
              "          const docLinkHtml = 'Like what you see? Visit the ' +\n",
              "            '<a target=\"_blank\" href=https://colab.research.google.com/notebooks/data_table.ipynb>data table notebook</a>'\n",
              "            + ' to learn more about interactive tables.';\n",
              "          element.innerHTML = '';\n",
              "          dataTable['output_type'] = 'display_data';\n",
              "          await google.colab.output.renderOutput(dataTable, element);\n",
              "          const docLink = document.createElement('div');\n",
              "          docLink.innerHTML = docLinkHtml;\n",
              "          element.appendChild(docLink);\n",
              "        }\n",
              "      </script>\n",
              "    </div>\n",
              "  </div>\n"
            ]
          },
          "metadata": {},
          "execution_count": 6
        }
      ]
    },
    {
      "cell_type": "code",
      "source": [
        "# 2.2.2\n",
        "data.shape   # (10000, 14)"
      ],
      "metadata": {
        "id": "xvzzZC1_vlP9",
        "outputId": "a4606cca-6491-4219-cf4f-8f198dc18122",
        "colab": {
          "base_uri": "https://localhost:8080/"
        }
      },
      "execution_count": 7,
      "outputs": [
        {
          "output_type": "execute_result",
          "data": {
            "text/plain": [
              "(10000, 14)"
            ]
          },
          "metadata": {},
          "execution_count": 7
        }
      ]
    },
    {
      "cell_type": "code",
      "source": [
        "# 2.3 Pop out target\n",
        "y = data.pop('Exited')"
      ],
      "metadata": {
        "id": "N3KCovgwEtmt"
      },
      "execution_count": 8,
      "outputs": []
    },
    {
      "cell_type": "code",
      "source": [
        "# 2.3.1\n",
        "data.shape   # (10000,13)"
      ],
      "metadata": {
        "colab": {
          "base_uri": "https://localhost:8080/"
        },
        "id": "GmDd06fNJjsM",
        "outputId": "455d6e85-42e7-4f4a-8298-fddb8f53ae0e"
      },
      "execution_count": 9,
      "outputs": [
        {
          "output_type": "execute_result",
          "data": {
            "text/plain": [
              "(10000, 13)"
            ]
          },
          "metadata": {},
          "execution_count": 9
        }
      ]
    },
    {
      "cell_type": "code",
      "source": [
        "# 3.0 Check NULL\n",
        "data.isnull().sum()"
      ],
      "metadata": {
        "id": "fG-9A9AN8MZp",
        "outputId": "208d2738-d19a-454b-d246-eefb5db62b2d",
        "colab": {
          "base_uri": "https://localhost:8080/"
        }
      },
      "execution_count": 10,
      "outputs": [
        {
          "output_type": "execute_result",
          "data": {
            "text/plain": [
              "RowNumber          0\n",
              "CustomerId         0\n",
              "Surname            0\n",
              "CreditScore        0\n",
              "Geography          0\n",
              "Gender             0\n",
              "Age                0\n",
              "Tenure             0\n",
              "Balance            0\n",
              "NumOfProducts      0\n",
              "HasCrCard          0\n",
              "IsActiveMember     0\n",
              "EstimatedSalary    0\n",
              "dtype: int64"
            ]
          },
          "metadata": {},
          "execution_count": 10
        }
      ]
    },
    {
      "cell_type": "code",
      "source": [
        "data['Gender'] = data['Gender'].map({'Female' : 1, 'Male' : 0})"
      ],
      "metadata": {
        "id": "3Q4VjYaRn7qA"
      },
      "execution_count": 11,
      "outputs": []
    },
    {
      "cell_type": "code",
      "source": [
        "data['Geography'].unique()"
      ],
      "metadata": {
        "colab": {
          "base_uri": "https://localhost:8080/"
        },
        "id": "GV49Z3ZuoJvx",
        "outputId": "0c04952a-3fc0-4c59-adb5-72b9f74822a3"
      },
      "execution_count": 12,
      "outputs": [
        {
          "output_type": "execute_result",
          "data": {
            "text/plain": [
              "array(['France', 'Spain', 'Germany'], dtype=object)"
            ]
          },
          "metadata": {},
          "execution_count": 12
        }
      ]
    },
    {
      "cell_type": "code",
      "source": [
        "data['Geography'] = data['Geography'].map({'France' : 0, 'Spain' : 1, 'Germany' : 2})"
      ],
      "metadata": {
        "id": "LmH2_2IWoO9N"
      },
      "execution_count": 13,
      "outputs": []
    },
    {
      "cell_type": "code",
      "source": [
        "# 3.2 Categorical features:\n",
        "data[:2]"
      ],
      "metadata": {
        "id": "WyDhQZsHJmMk",
        "outputId": "f56b48a9-e750-4361-9494-ccf7ac7380ea",
        "colab": {
          "base_uri": "https://localhost:8080/",
          "height": 112
        }
      },
      "execution_count": 14,
      "outputs": [
        {
          "output_type": "execute_result",
          "data": {
            "text/plain": [
              "   RowNumber  CustomerId   Surname  CreditScore  Geography  Gender  Age  \\\n",
              "0          1    15634602  Hargrave          619          0       1   42   \n",
              "1          2    15647311      Hill          608          1       1   41   \n",
              "\n",
              "   Tenure   Balance  NumOfProducts  HasCrCard  IsActiveMember  EstimatedSalary  \n",
              "0       2      0.00              1          1               1        101348.88  \n",
              "1       1  83807.86              1          0               1        112542.58  "
            ],
            "text/html": [
              "\n",
              "\n",
              "  <div id=\"df-c928d0b2-0a39-4f45-92b0-1095ebbd6b9a\">\n",
              "    <div class=\"colab-df-container\">\n",
              "      <div>\n",
              "<style scoped>\n",
              "    .dataframe tbody tr th:only-of-type {\n",
              "        vertical-align: middle;\n",
              "    }\n",
              "\n",
              "    .dataframe tbody tr th {\n",
              "        vertical-align: top;\n",
              "    }\n",
              "\n",
              "    .dataframe thead th {\n",
              "        text-align: right;\n",
              "    }\n",
              "</style>\n",
              "<table border=\"1\" class=\"dataframe\">\n",
              "  <thead>\n",
              "    <tr style=\"text-align: right;\">\n",
              "      <th></th>\n",
              "      <th>RowNumber</th>\n",
              "      <th>CustomerId</th>\n",
              "      <th>Surname</th>\n",
              "      <th>CreditScore</th>\n",
              "      <th>Geography</th>\n",
              "      <th>Gender</th>\n",
              "      <th>Age</th>\n",
              "      <th>Tenure</th>\n",
              "      <th>Balance</th>\n",
              "      <th>NumOfProducts</th>\n",
              "      <th>HasCrCard</th>\n",
              "      <th>IsActiveMember</th>\n",
              "      <th>EstimatedSalary</th>\n",
              "    </tr>\n",
              "  </thead>\n",
              "  <tbody>\n",
              "    <tr>\n",
              "      <th>0</th>\n",
              "      <td>1</td>\n",
              "      <td>15634602</td>\n",
              "      <td>Hargrave</td>\n",
              "      <td>619</td>\n",
              "      <td>0</td>\n",
              "      <td>1</td>\n",
              "      <td>42</td>\n",
              "      <td>2</td>\n",
              "      <td>0.00</td>\n",
              "      <td>1</td>\n",
              "      <td>1</td>\n",
              "      <td>1</td>\n",
              "      <td>101348.88</td>\n",
              "    </tr>\n",
              "    <tr>\n",
              "      <th>1</th>\n",
              "      <td>2</td>\n",
              "      <td>15647311</td>\n",
              "      <td>Hill</td>\n",
              "      <td>608</td>\n",
              "      <td>1</td>\n",
              "      <td>1</td>\n",
              "      <td>41</td>\n",
              "      <td>1</td>\n",
              "      <td>83807.86</td>\n",
              "      <td>1</td>\n",
              "      <td>0</td>\n",
              "      <td>1</td>\n",
              "      <td>112542.58</td>\n",
              "    </tr>\n",
              "  </tbody>\n",
              "</table>\n",
              "</div>\n",
              "      <button class=\"colab-df-convert\" onclick=\"convertToInteractive('df-c928d0b2-0a39-4f45-92b0-1095ebbd6b9a')\"\n",
              "              title=\"Convert this dataframe to an interactive table.\"\n",
              "              style=\"display:none;\">\n",
              "\n",
              "  <svg xmlns=\"http://www.w3.org/2000/svg\" height=\"24px\"viewBox=\"0 0 24 24\"\n",
              "       width=\"24px\">\n",
              "    <path d=\"M0 0h24v24H0V0z\" fill=\"none\"/>\n",
              "    <path d=\"M18.56 5.44l.94 2.06.94-2.06 2.06-.94-2.06-.94-.94-2.06-.94 2.06-2.06.94zm-11 1L8.5 8.5l.94-2.06 2.06-.94-2.06-.94L8.5 2.5l-.94 2.06-2.06.94zm10 10l.94 2.06.94-2.06 2.06-.94-2.06-.94-.94-2.06-.94 2.06-2.06.94z\"/><path d=\"M17.41 7.96l-1.37-1.37c-.4-.4-.92-.59-1.43-.59-.52 0-1.04.2-1.43.59L10.3 9.45l-7.72 7.72c-.78.78-.78 2.05 0 2.83L4 21.41c.39.39.9.59 1.41.59.51 0 1.02-.2 1.41-.59l7.78-7.78 2.81-2.81c.8-.78.8-2.07 0-2.86zM5.41 20L4 18.59l7.72-7.72 1.47 1.35L5.41 20z\"/>\n",
              "  </svg>\n",
              "      </button>\n",
              "\n",
              "\n",
              "\n",
              "    <div id=\"df-cf0c9ceb-b3f7-412e-9704-3d6be245280f\">\n",
              "      <button class=\"colab-df-quickchart\" onclick=\"quickchart('df-cf0c9ceb-b3f7-412e-9704-3d6be245280f')\"\n",
              "              title=\"Suggest charts.\"\n",
              "              style=\"display:none;\">\n",
              "\n",
              "<svg xmlns=\"http://www.w3.org/2000/svg\" height=\"24px\"viewBox=\"0 0 24 24\"\n",
              "     width=\"24px\">\n",
              "    <g>\n",
              "        <path d=\"M19 3H5c-1.1 0-2 .9-2 2v14c0 1.1.9 2 2 2h14c1.1 0 2-.9 2-2V5c0-1.1-.9-2-2-2zM9 17H7v-7h2v7zm4 0h-2V7h2v10zm4 0h-2v-4h2v4z\"/>\n",
              "    </g>\n",
              "</svg>\n",
              "      </button>\n",
              "    </div>\n",
              "\n",
              "<style>\n",
              "  .colab-df-quickchart {\n",
              "    background-color: #E8F0FE;\n",
              "    border: none;\n",
              "    border-radius: 50%;\n",
              "    cursor: pointer;\n",
              "    display: none;\n",
              "    fill: #1967D2;\n",
              "    height: 32px;\n",
              "    padding: 0 0 0 0;\n",
              "    width: 32px;\n",
              "  }\n",
              "\n",
              "  .colab-df-quickchart:hover {\n",
              "    background-color: #E2EBFA;\n",
              "    box-shadow: 0px 1px 2px rgba(60, 64, 67, 0.3), 0px 1px 3px 1px rgba(60, 64, 67, 0.15);\n",
              "    fill: #174EA6;\n",
              "  }\n",
              "\n",
              "  [theme=dark] .colab-df-quickchart {\n",
              "    background-color: #3B4455;\n",
              "    fill: #D2E3FC;\n",
              "  }\n",
              "\n",
              "  [theme=dark] .colab-df-quickchart:hover {\n",
              "    background-color: #434B5C;\n",
              "    box-shadow: 0px 1px 3px 1px rgba(0, 0, 0, 0.15);\n",
              "    filter: drop-shadow(0px 1px 2px rgba(0, 0, 0, 0.3));\n",
              "    fill: #FFFFFF;\n",
              "  }\n",
              "</style>\n",
              "\n",
              "    <script>\n",
              "      async function quickchart(key) {\n",
              "        const containerElement = document.querySelector('#' + key);\n",
              "        const charts = await google.colab.kernel.invokeFunction(\n",
              "            'suggestCharts', [key], {});\n",
              "      }\n",
              "    </script>\n",
              "\n",
              "      <script>\n",
              "\n",
              "function displayQuickchartButton(domScope) {\n",
              "  let quickchartButtonEl =\n",
              "    domScope.querySelector('#df-cf0c9ceb-b3f7-412e-9704-3d6be245280f button.colab-df-quickchart');\n",
              "  quickchartButtonEl.style.display =\n",
              "    google.colab.kernel.accessAllowed ? 'block' : 'none';\n",
              "}\n",
              "\n",
              "        displayQuickchartButton(document);\n",
              "      </script>\n",
              "      <style>\n",
              "    .colab-df-container {\n",
              "      display:flex;\n",
              "      flex-wrap:wrap;\n",
              "      gap: 12px;\n",
              "    }\n",
              "\n",
              "    .colab-df-convert {\n",
              "      background-color: #E8F0FE;\n",
              "      border: none;\n",
              "      border-radius: 50%;\n",
              "      cursor: pointer;\n",
              "      display: none;\n",
              "      fill: #1967D2;\n",
              "      height: 32px;\n",
              "      padding: 0 0 0 0;\n",
              "      width: 32px;\n",
              "    }\n",
              "\n",
              "    .colab-df-convert:hover {\n",
              "      background-color: #E2EBFA;\n",
              "      box-shadow: 0px 1px 2px rgba(60, 64, 67, 0.3), 0px 1px 3px 1px rgba(60, 64, 67, 0.15);\n",
              "      fill: #174EA6;\n",
              "    }\n",
              "\n",
              "    [theme=dark] .colab-df-convert {\n",
              "      background-color: #3B4455;\n",
              "      fill: #D2E3FC;\n",
              "    }\n",
              "\n",
              "    [theme=dark] .colab-df-convert:hover {\n",
              "      background-color: #434B5C;\n",
              "      box-shadow: 0px 1px 3px 1px rgba(0, 0, 0, 0.15);\n",
              "      filter: drop-shadow(0px 1px 2px rgba(0, 0, 0, 0.3));\n",
              "      fill: #FFFFFF;\n",
              "    }\n",
              "  </style>\n",
              "\n",
              "      <script>\n",
              "        const buttonEl =\n",
              "          document.querySelector('#df-c928d0b2-0a39-4f45-92b0-1095ebbd6b9a button.colab-df-convert');\n",
              "        buttonEl.style.display =\n",
              "          google.colab.kernel.accessAllowed ? 'block' : 'none';\n",
              "\n",
              "        async function convertToInteractive(key) {\n",
              "          const element = document.querySelector('#df-c928d0b2-0a39-4f45-92b0-1095ebbd6b9a');\n",
              "          const dataTable =\n",
              "            await google.colab.kernel.invokeFunction('convertToInteractive',\n",
              "                                                     [key], {});\n",
              "          if (!dataTable) return;\n",
              "\n",
              "          const docLinkHtml = 'Like what you see? Visit the ' +\n",
              "            '<a target=\"_blank\" href=https://colab.research.google.com/notebooks/data_table.ipynb>data table notebook</a>'\n",
              "            + ' to learn more about interactive tables.';\n",
              "          element.innerHTML = '';\n",
              "          dataTable['output_type'] = 'display_data';\n",
              "          await google.colab.output.renderOutput(dataTable, element);\n",
              "          const docLink = document.createElement('div');\n",
              "          docLink.innerHTML = docLinkHtml;\n",
              "          element.appendChild(docLink);\n",
              "        }\n",
              "      </script>\n",
              "    </div>\n",
              "  </div>\n"
            ]
          },
          "metadata": {},
          "execution_count": 14
        }
      ]
    },
    {
      "cell_type": "code",
      "source": [
        "data['CustomerId'].duplicated().sum()"
      ],
      "metadata": {
        "colab": {
          "base_uri": "https://localhost:8080/"
        },
        "id": "TkNTvzYLojWw",
        "outputId": "50bf098c-3872-47cf-ec59-7459b4826975"
      },
      "execution_count": 15,
      "outputs": [
        {
          "output_type": "execute_result",
          "data": {
            "text/plain": [
              "0"
            ]
          },
          "metadata": {},
          "execution_count": 15
        }
      ]
    },
    {
      "cell_type": "code",
      "source": [
        "data = data.drop(columns = ['RowNumber','CustomerId', 'Surname'])"
      ],
      "metadata": {
        "id": "kC0KCgzOo6YG"
      },
      "execution_count": 16,
      "outputs": []
    },
    {
      "cell_type": "code",
      "source": [
        "data['Tenure'].unique()"
      ],
      "metadata": {
        "colab": {
          "base_uri": "https://localhost:8080/"
        },
        "id": "SqgsstLwpPQ9",
        "outputId": "dcbdf9e1-6d39-4978-bef1-742daf15c299"
      },
      "execution_count": 17,
      "outputs": [
        {
          "output_type": "execute_result",
          "data": {
            "text/plain": [
              "array([ 2,  1,  8,  7,  4,  6,  3, 10,  5,  9,  0])"
            ]
          },
          "metadata": {},
          "execution_count": 17
        }
      ]
    },
    {
      "cell_type": "code",
      "source": [
        "X_train,X_test, y_train,y_test = train_test_split(data, y, test_size = 0.25)"
      ],
      "metadata": {
        "id": "x6HG0SEppo72"
      },
      "execution_count": 18,
      "outputs": []
    },
    {
      "cell_type": "code",
      "source": [
        "X_train.shape\n",
        "X_test.shape"
      ],
      "metadata": {
        "colab": {
          "base_uri": "https://localhost:8080/"
        },
        "id": "xUm3VKFLpxnG",
        "outputId": "528ebb1c-f07c-4e53-8fd2-a07ba1f03089"
      },
      "execution_count": 19,
      "outputs": [
        {
          "output_type": "execute_result",
          "data": {
            "text/plain": [
              "(7500, 10)"
            ]
          },
          "metadata": {},
          "execution_count": 19
        },
        {
          "output_type": "execute_result",
          "data": {
            "text/plain": [
              "(2500, 10)"
            ]
          },
          "metadata": {},
          "execution_count": 19
        }
      ]
    },
    {
      "cell_type": "code",
      "source": [
        "mm = MinMaxScaler()\n",
        "mm.fit(X_train)"
      ],
      "metadata": {
        "colab": {
          "base_uri": "https://localhost:8080/",
          "height": 75
        },
        "id": "eTWGjVk8pYFO",
        "outputId": "9336344e-3c5f-4b1d-81cd-5c644ff14059"
      },
      "execution_count": 20,
      "outputs": [
        {
          "output_type": "execute_result",
          "data": {
            "text/plain": [
              "MinMaxScaler()"
            ],
            "text/html": [
              "<style>#sk-container-id-1 {color: black;background-color: white;}#sk-container-id-1 pre{padding: 0;}#sk-container-id-1 div.sk-toggleable {background-color: white;}#sk-container-id-1 label.sk-toggleable__label {cursor: pointer;display: block;width: 100%;margin-bottom: 0;padding: 0.3em;box-sizing: border-box;text-align: center;}#sk-container-id-1 label.sk-toggleable__label-arrow:before {content: \"▸\";float: left;margin-right: 0.25em;color: #696969;}#sk-container-id-1 label.sk-toggleable__label-arrow:hover:before {color: black;}#sk-container-id-1 div.sk-estimator:hover label.sk-toggleable__label-arrow:before {color: black;}#sk-container-id-1 div.sk-toggleable__content {max-height: 0;max-width: 0;overflow: hidden;text-align: left;background-color: #f0f8ff;}#sk-container-id-1 div.sk-toggleable__content pre {margin: 0.2em;color: black;border-radius: 0.25em;background-color: #f0f8ff;}#sk-container-id-1 input.sk-toggleable__control:checked~div.sk-toggleable__content {max-height: 200px;max-width: 100%;overflow: auto;}#sk-container-id-1 input.sk-toggleable__control:checked~label.sk-toggleable__label-arrow:before {content: \"▾\";}#sk-container-id-1 div.sk-estimator input.sk-toggleable__control:checked~label.sk-toggleable__label {background-color: #d4ebff;}#sk-container-id-1 div.sk-label input.sk-toggleable__control:checked~label.sk-toggleable__label {background-color: #d4ebff;}#sk-container-id-1 input.sk-hidden--visually {border: 0;clip: rect(1px 1px 1px 1px);clip: rect(1px, 1px, 1px, 1px);height: 1px;margin: -1px;overflow: hidden;padding: 0;position: absolute;width: 1px;}#sk-container-id-1 div.sk-estimator {font-family: monospace;background-color: #f0f8ff;border: 1px dotted black;border-radius: 0.25em;box-sizing: border-box;margin-bottom: 0.5em;}#sk-container-id-1 div.sk-estimator:hover {background-color: #d4ebff;}#sk-container-id-1 div.sk-parallel-item::after {content: \"\";width: 100%;border-bottom: 1px solid gray;flex-grow: 1;}#sk-container-id-1 div.sk-label:hover label.sk-toggleable__label {background-color: #d4ebff;}#sk-container-id-1 div.sk-serial::before {content: \"\";position: absolute;border-left: 1px solid gray;box-sizing: border-box;top: 0;bottom: 0;left: 50%;z-index: 0;}#sk-container-id-1 div.sk-serial {display: flex;flex-direction: column;align-items: center;background-color: white;padding-right: 0.2em;padding-left: 0.2em;position: relative;}#sk-container-id-1 div.sk-item {position: relative;z-index: 1;}#sk-container-id-1 div.sk-parallel {display: flex;align-items: stretch;justify-content: center;background-color: white;position: relative;}#sk-container-id-1 div.sk-item::before, #sk-container-id-1 div.sk-parallel-item::before {content: \"\";position: absolute;border-left: 1px solid gray;box-sizing: border-box;top: 0;bottom: 0;left: 50%;z-index: -1;}#sk-container-id-1 div.sk-parallel-item {display: flex;flex-direction: column;z-index: 1;position: relative;background-color: white;}#sk-container-id-1 div.sk-parallel-item:first-child::after {align-self: flex-end;width: 50%;}#sk-container-id-1 div.sk-parallel-item:last-child::after {align-self: flex-start;width: 50%;}#sk-container-id-1 div.sk-parallel-item:only-child::after {width: 0;}#sk-container-id-1 div.sk-dashed-wrapped {border: 1px dashed gray;margin: 0 0.4em 0.5em 0.4em;box-sizing: border-box;padding-bottom: 0.4em;background-color: white;}#sk-container-id-1 div.sk-label label {font-family: monospace;font-weight: bold;display: inline-block;line-height: 1.2em;}#sk-container-id-1 div.sk-label-container {text-align: center;}#sk-container-id-1 div.sk-container {/* jupyter's `normalize.less` sets `[hidden] { display: none; }` but bootstrap.min.css set `[hidden] { display: none !important; }` so we also need the `!important` here to be able to override the default hidden behavior on the sphinx rendered scikit-learn.org. See: https://github.com/scikit-learn/scikit-learn/issues/21755 */display: inline-block !important;position: relative;}#sk-container-id-1 div.sk-text-repr-fallback {display: none;}</style><div id=\"sk-container-id-1\" class=\"sk-top-container\"><div class=\"sk-text-repr-fallback\"><pre>MinMaxScaler()</pre><b>In a Jupyter environment, please rerun this cell to show the HTML representation or trust the notebook. <br />On GitHub, the HTML representation is unable to render, please try loading this page with nbviewer.org.</b></div><div class=\"sk-container\" hidden><div class=\"sk-item\"><div class=\"sk-estimator sk-toggleable\"><input class=\"sk-toggleable__control sk-hidden--visually\" id=\"sk-estimator-id-1\" type=\"checkbox\" checked><label for=\"sk-estimator-id-1\" class=\"sk-toggleable__label sk-toggleable__label-arrow\">MinMaxScaler</label><div class=\"sk-toggleable__content\"><pre>MinMaxScaler()</pre></div></div></div></div></div>"
            ]
          },
          "metadata": {},
          "execution_count": 20
        }
      ]
    },
    {
      "cell_type": "code",
      "source": [
        "X_train = mm.transform(X_train)\n",
        "X_test = mm.transform(X_test)"
      ],
      "metadata": {
        "id": "kb_YJ-w3p_7-"
      },
      "execution_count": 21,
      "outputs": []
    },
    {
      "cell_type": "markdown",
      "source": [
        "## Model"
      ],
      "metadata": {
        "id": "BKGxZacvpAUU"
      }
    },
    {
      "cell_type": "code",
      "source": [
        "# 6.0\n",
        "model = tf.keras.Sequential()"
      ],
      "metadata": {
        "id": "3u7a51m5Ixfm"
      },
      "execution_count": 38,
      "outputs": []
    },
    {
      "cell_type": "code",
      "source": [
        "# 6.1\n",
        "model.add( tf.keras.layers.Input(shape = (10,) ))"
      ],
      "metadata": {
        "id": "71VW2avIJEsh"
      },
      "execution_count": 39,
      "outputs": []
    },
    {
      "cell_type": "code",
      "source": [
        "# 6.2 Start\n",
        "model.add(tf.keras.layers.Dense(50, activation = 'relu'))  # MAke it 5 and then 20 (not more or less)"
      ],
      "metadata": {
        "id": "fUDftH3BJ_-L"
      },
      "execution_count": 40,
      "outputs": []
    },
    {
      "cell_type": "code",
      "source": [
        "# 6.2.1 Experiment with adding a dropout layer\n",
        "#       but then increase number of units in Dense layer from 20 to 40\n",
        "#model.add(tf.keras.layers.Dropout(rate = 0.5 ))"
      ],
      "metadata": {
        "id": "NNAVQxIDwuVk"
      },
      "execution_count": 41,
      "outputs": []
    },
    {
      "cell_type": "code",
      "source": [
        "model.add(tf.keras.layers.Dense(100, activation = 'selu'))\n",
        "#model.add(tf.keras.layers.Dropout(rate = 0.5 ))"
      ],
      "metadata": {
        "id": "Dj5lOyfyyDaQ"
      },
      "execution_count": 42,
      "outputs": []
    },
    {
      "cell_type": "code",
      "source": [
        "model.add(tf.keras.layers.Dense(100, activation = 'relu'))\n",
        "#model.add(tf.keras.layers.Dropout(rate = 0.5 ))"
      ],
      "metadata": {
        "id": "8zHYh7XCy2cJ"
      },
      "execution_count": 43,
      "outputs": []
    },
    {
      "cell_type": "code",
      "source": [
        "# 6.3 Experiment first with activation of sigmoid\n",
        "#     and then no activation function\n",
        "model.add(tf.keras.layers.Dense(1, activation = 'sigmoid'))    # Keep sigmoid; then remove sigmoid"
      ],
      "metadata": {
        "id": "glw8SP83KQBL"
      },
      "execution_count": 44,
      "outputs": []
    },
    {
      "cell_type": "code",
      "source": [
        "# 6.4 Model summary:\n",
        "model.summary()"
      ],
      "metadata": {
        "id": "HcfvweBLKWiQ",
        "outputId": "469d3ad5-aec3-4663-fa60-2e496fefa881",
        "colab": {
          "base_uri": "https://localhost:8080/"
        }
      },
      "execution_count": 45,
      "outputs": [
        {
          "output_type": "stream",
          "name": "stdout",
          "text": [
            "Model: \"sequential_2\"\n",
            "_________________________________________________________________\n",
            " Layer (type)                Output Shape              Param #   \n",
            "=================================================================\n",
            " dense_8 (Dense)             (None, 50)                550       \n",
            "                                                                 \n",
            " dense_9 (Dense)             (None, 100)               5100      \n",
            "                                                                 \n",
            " dense_10 (Dense)            (None, 100)               10100     \n",
            "                                                                 \n",
            " dense_11 (Dense)            (None, 1)                 101       \n",
            "                                                                 \n",
            "=================================================================\n",
            "Total params: 15,851\n",
            "Trainable params: 15,851\n",
            "Non-trainable params: 0\n",
            "_________________________________________________________________\n"
          ]
        }
      ]
    },
    {
      "cell_type": "code",
      "source": [
        "plot_model(model, show_shapes=True)"
      ],
      "metadata": {
        "id": "KdC-lIoNNcH5",
        "outputId": "47c4e12d-da63-4d8b-fdf3-bb04e2475d64",
        "colab": {
          "base_uri": "https://localhost:8080/",
          "height": 533
        }
      },
      "execution_count": 47,
      "outputs": [
        {
          "output_type": "execute_result",
          "data": {
            "image/png": "[encoded data removed]",
            "text/plain": [
              "<IPython.core.display.Image object>"
            ]
          },
          "metadata": {},
          "execution_count": 47
        }
      ]
    },
    {
      "cell_type": "code",
      "source": [
        "# 6.5 Compile model\n",
        "#     Expt with adam\n",
        "model.compile(\n",
        "                 loss = 'binary_crossentropy',\n",
        "                 optimizer = 'adam',  # Try first with default optimizer and then with 'adam'\n",
        "                                      #  may not make much difference\n",
        "                 metrics = ['acc', 'mae']\n",
        "              )"
      ],
      "metadata": {
        "id": "6LLk36OpKYIJ"
      },
      "execution_count": 48,
      "outputs": []
    },
    {
      "cell_type": "code",
      "source": [
        "# 7.0\n",
        "#\n",
        "history1 = model.fit(X_train,y_train,\n",
        "                    epochs = 250,\n",
        "                    validation_data = (X_test, y_test)\n",
        "                   )"
      ],
      "metadata": {
        "id": "SxH9wqFAKj6R",
        "outputId": "2c5c00b3-7bd2-4570-cabb-3f45d3e841d5",
        "colab": {
          "base_uri": "https://localhost:8080/"
        }
      },
      "execution_count": 49,
      "outputs": [
        {
          "output_type": "stream",
          "name": "stdout",
          "text": [
            "Epoch 1/250\n",
            "235/235 [==============================] - 2s 4ms/step - loss: 0.4658 - acc: 0.8037 - mae: 0.2990 - val_loss: 0.4356 - val_acc: 0.8112 - val_mae: 0.2762\n",
            "Epoch 2/250\n",
            "235/235 [==============================] - 1s 3ms/step - loss: 0.4252 - acc: 0.8240 - mae: 0.2710 - val_loss: 0.3954 - val_acc: 0.8312 - val_mae: 0.2536\n",
            "Epoch 3/250\n",
            "235/235 [==============================] - 1s 3ms/step - loss: 0.3827 - acc: 0.8408 - mae: 0.2412 - val_loss: 0.3673 - val_acc: 0.8412 - val_mae: 0.2368\n",
            "Epoch 4/250\n",
            "235/235 [==============================] - 1s 3ms/step - loss: 0.3679 - acc: 0.8492 - mae: 0.2277 - val_loss: 0.3656 - val_acc: 0.8492 - val_mae: 0.2398\n",
            "Epoch 5/250\n",
            "235/235 [==============================] - 1s 3ms/step - loss: 0.3615 - acc: 0.8507 - mae: 0.2225 - val_loss: 0.3576 - val_acc: 0.8528 - val_mae: 0.2310\n",
            "Epoch 6/250\n",
            "235/235 [==============================] - 1s 3ms/step - loss: 0.3560 - acc: 0.8528 - mae: 0.2204 - val_loss: 0.3608 - val_acc: 0.8504 - val_mae: 0.2102\n",
            "Epoch 7/250\n",
            "235/235 [==============================] - 1s 5ms/step - loss: 0.3519 - acc: 0.8565 - mae: 0.2168 - val_loss: 0.3536 - val_acc: 0.8540 - val_mae: 0.2069\n",
            "Epoch 8/250\n",
            "235/235 [==============================] - 1s 6ms/step - loss: 0.3471 - acc: 0.8579 - mae: 0.2131 - val_loss: 0.3511 - val_acc: 0.8548 - val_mae: 0.2259\n",
            "Epoch 9/250\n",
            "235/235 [==============================] - 2s 9ms/step - loss: 0.3453 - acc: 0.8588 - mae: 0.2121 - val_loss: 0.3713 - val_acc: 0.8432 - val_mae: 0.2397\n",
            "Epoch 10/250\n",
            "235/235 [==============================] - 2s 7ms/step - loss: 0.3421 - acc: 0.8604 - mae: 0.2089 - val_loss: 0.3497 - val_acc: 0.8528 - val_mae: 0.2160\n",
            "Epoch 11/250\n",
            "235/235 [==============================] - 1s 6ms/step - loss: 0.3380 - acc: 0.8631 - mae: 0.2068 - val_loss: 0.3512 - val_acc: 0.8512 - val_mae: 0.2150\n",
            "Epoch 12/250\n",
            "235/235 [==============================] - 1s 6ms/step - loss: 0.3396 - acc: 0.8609 - mae: 0.2076 - val_loss: 0.3519 - val_acc: 0.8560 - val_mae: 0.2169\n",
            "Epoch 13/250\n",
            "235/235 [==============================] - 1s 5ms/step - loss: 0.3348 - acc: 0.8643 - mae: 0.2047 - val_loss: 0.3435 - val_acc: 0.8536 - val_mae: 0.2003\n",
            "Epoch 14/250\n",
            "235/235 [==============================] - 1s 5ms/step - loss: 0.3323 - acc: 0.8648 - mae: 0.2029 - val_loss: 0.3566 - val_acc: 0.8488 - val_mae: 0.2019\n",
            "Epoch 15/250\n",
            "235/235 [==============================] - 2s 7ms/step - loss: 0.3313 - acc: 0.8639 - mae: 0.2023 - val_loss: 0.3470 - val_acc: 0.8560 - val_mae: 0.2074\n",
            "Epoch 16/250\n",
            "235/235 [==============================] - 1s 6ms/step - loss: 0.3310 - acc: 0.8671 - mae: 0.2020 - val_loss: 0.3514 - val_acc: 0.8504 - val_mae: 0.1958\n",
            "Epoch 17/250\n",
            "235/235 [==============================] - 1s 6ms/step - loss: 0.3299 - acc: 0.8657 - mae: 0.2012 - val_loss: 0.3461 - val_acc: 0.8508 - val_mae: 0.2130\n",
            "Epoch 18/250\n",
            "235/235 [==============================] - 2s 7ms/step - loss: 0.3280 - acc: 0.8661 - mae: 0.2008 - val_loss: 0.3486 - val_acc: 0.8516 - val_mae: 0.1955\n",
            "Epoch 19/250\n",
            "235/235 [==============================] - 2s 8ms/step - loss: 0.3284 - acc: 0.8641 - mae: 0.2001 - val_loss: 0.3466 - val_acc: 0.8536 - val_mae: 0.2112\n",
            "Epoch 20/250\n",
            "235/235 [==============================] - 2s 7ms/step - loss: 0.3241 - acc: 0.8681 - mae: 0.1976 - val_loss: 0.3451 - val_acc: 0.8512 - val_mae: 0.2117\n",
            "Epoch 21/250\n",
            "235/235 [==============================] - 1s 6ms/step - loss: 0.3272 - acc: 0.8681 - mae: 0.2001 - val_loss: 0.3445 - val_acc: 0.8576 - val_mae: 0.1986\n",
            "Epoch 22/250\n",
            "235/235 [==============================] - 1s 6ms/step - loss: 0.3239 - acc: 0.8685 - mae: 0.1973 - val_loss: 0.3435 - val_acc: 0.8536 - val_mae: 0.2089\n",
            "Epoch 23/250\n",
            "235/235 [==============================] - 2s 7ms/step - loss: 0.3252 - acc: 0.8681 - mae: 0.1977 - val_loss: 0.3496 - val_acc: 0.8528 - val_mae: 0.2084\n",
            "Epoch 24/250\n",
            "235/235 [==============================] - 2s 6ms/step - loss: 0.3243 - acc: 0.8696 - mae: 0.1971 - val_loss: 0.3609 - val_acc: 0.8500 - val_mae: 0.2044\n",
            "Epoch 25/250\n",
            "235/235 [==============================] - 1s 6ms/step - loss: 0.3206 - acc: 0.8699 - mae: 0.1953 - val_loss: 0.3546 - val_acc: 0.8460 - val_mae: 0.2035\n",
            "Epoch 26/250\n",
            "235/235 [==============================] - 1s 5ms/step - loss: 0.3212 - acc: 0.8665 - mae: 0.1961 - val_loss: 0.3575 - val_acc: 0.8476 - val_mae: 0.2093\n",
            "Epoch 27/250\n",
            "235/235 [==============================] - 1s 5ms/step - loss: 0.3184 - acc: 0.8681 - mae: 0.1933 - val_loss: 0.3435 - val_acc: 0.8532 - val_mae: 0.2011\n",
            "Epoch 28/250\n",
            "235/235 [==============================] - 1s 3ms/step - loss: 0.3196 - acc: 0.8704 - mae: 0.1952 - val_loss: 0.3530 - val_acc: 0.8496 - val_mae: 0.2117\n",
            "Epoch 29/250\n",
            "235/235 [==============================] - 1s 5ms/step - loss: 0.3208 - acc: 0.8700 - mae: 0.1944 - val_loss: 0.3526 - val_acc: 0.8520 - val_mae: 0.2152\n",
            "Epoch 30/250\n",
            "235/235 [==============================] - 1s 5ms/step - loss: 0.3203 - acc: 0.8695 - mae: 0.1965 - val_loss: 0.3717 - val_acc: 0.8496 - val_mae: 0.1896\n",
            "Epoch 31/250\n",
            "235/235 [==============================] - 1s 5ms/step - loss: 0.3160 - acc: 0.8695 - mae: 0.1930 - val_loss: 0.3521 - val_acc: 0.8528 - val_mae: 0.1945\n",
            "Epoch 32/250\n",
            "235/235 [==============================] - 1s 4ms/step - loss: 0.3140 - acc: 0.8701 - mae: 0.1916 - val_loss: 0.3528 - val_acc: 0.8540 - val_mae: 0.1938\n",
            "Epoch 33/250\n",
            "235/235 [==============================] - 1s 3ms/step - loss: 0.3138 - acc: 0.8715 - mae: 0.1909 - val_loss: 0.3500 - val_acc: 0.8544 - val_mae: 0.1994\n",
            "Epoch 34/250\n",
            "235/235 [==============================] - 1s 3ms/step - loss: 0.3131 - acc: 0.8728 - mae: 0.1899 - val_loss: 0.3591 - val_acc: 0.8504 - val_mae: 0.2239\n",
            "Epoch 35/250\n",
            "235/235 [==============================] - 1s 3ms/step - loss: 0.3143 - acc: 0.8716 - mae: 0.1913 - val_loss: 0.3501 - val_acc: 0.8496 - val_mae: 0.2150\n",
            "Epoch 36/250\n",
            "235/235 [==============================] - 1s 3ms/step - loss: 0.3136 - acc: 0.8732 - mae: 0.1918 - val_loss: 0.3584 - val_acc: 0.8500 - val_mae: 0.2118\n",
            "Epoch 37/250\n",
            "235/235 [==============================] - 1s 3ms/step - loss: 0.3104 - acc: 0.8744 - mae: 0.1902 - val_loss: 0.3602 - val_acc: 0.8532 - val_mae: 0.2115\n",
            "Epoch 38/250\n",
            "235/235 [==============================] - 1s 3ms/step - loss: 0.3100 - acc: 0.8744 - mae: 0.1894 - val_loss: 0.3545 - val_acc: 0.8476 - val_mae: 0.2036\n",
            "Epoch 39/250\n",
            "235/235 [==============================] - 1s 3ms/step - loss: 0.3107 - acc: 0.8729 - mae: 0.1894 - val_loss: 0.3650 - val_acc: 0.8464 - val_mae: 0.1970\n",
            "Epoch 40/250\n",
            "235/235 [==============================] - 1s 3ms/step - loss: 0.3086 - acc: 0.8728 - mae: 0.1889 - val_loss: 0.3583 - val_acc: 0.8520 - val_mae: 0.1914\n",
            "Epoch 41/250\n",
            "235/235 [==============================] - 1s 3ms/step - loss: 0.3089 - acc: 0.8748 - mae: 0.1870 - val_loss: 0.3596 - val_acc: 0.8532 - val_mae: 0.2202\n",
            "Epoch 42/250\n",
            "235/235 [==============================] - 1s 3ms/step - loss: 0.3063 - acc: 0.8724 - mae: 0.1867 - val_loss: 0.3628 - val_acc: 0.8496 - val_mae: 0.2145\n",
            "Epoch 43/250\n",
            "235/235 [==============================] - 1s 3ms/step - loss: 0.3064 - acc: 0.8744 - mae: 0.1875 - val_loss: 0.3612 - val_acc: 0.8512 - val_mae: 0.2000\n",
            "Epoch 44/250\n",
            "235/235 [==============================] - 1s 3ms/step - loss: 0.3061 - acc: 0.8760 - mae: 0.1855 - val_loss: 0.3658 - val_acc: 0.8452 - val_mae: 0.2177\n",
            "Epoch 45/250\n",
            "235/235 [==============================] - 1s 3ms/step - loss: 0.3048 - acc: 0.8759 - mae: 0.1863 - val_loss: 0.3610 - val_acc: 0.8520 - val_mae: 0.2027\n",
            "Epoch 46/250\n",
            "235/235 [==============================] - 1s 3ms/step - loss: 0.3044 - acc: 0.8745 - mae: 0.1863 - val_loss: 0.3638 - val_acc: 0.8480 - val_mae: 0.1956\n",
            "Epoch 47/250\n",
            "235/235 [==============================] - 1s 4ms/step - loss: 0.3016 - acc: 0.8772 - mae: 0.1837 - val_loss: 0.3567 - val_acc: 0.8516 - val_mae: 0.2039\n",
            "Epoch 48/250\n",
            "235/235 [==============================] - 1s 4ms/step - loss: 0.3024 - acc: 0.8763 - mae: 0.1848 - val_loss: 0.3624 - val_acc: 0.8488 - val_mae: 0.2049\n",
            "Epoch 49/250\n",
            "235/235 [==============================] - 1s 4ms/step - loss: 0.3027 - acc: 0.8763 - mae: 0.1841 - val_loss: 0.3569 - val_acc: 0.8520 - val_mae: 0.2154\n",
            "Epoch 50/250\n",
            "235/235 [==============================] - 1s 4ms/step - loss: 0.3001 - acc: 0.8777 - mae: 0.1837 - val_loss: 0.3702 - val_acc: 0.8440 - val_mae: 0.2121\n",
            "Epoch 51/250\n",
            "235/235 [==============================] - 1s 4ms/step - loss: 0.3010 - acc: 0.8776 - mae: 0.1842 - val_loss: 0.3749 - val_acc: 0.8452 - val_mae: 0.2091\n",
            "Epoch 52/250\n",
            "235/235 [==============================] - 1s 3ms/step - loss: 0.2999 - acc: 0.8767 - mae: 0.1836 - val_loss: 0.3699 - val_acc: 0.8456 - val_mae: 0.2056\n",
            "Epoch 53/250\n",
            "235/235 [==============================] - 1s 3ms/step - loss: 0.2987 - acc: 0.8795 - mae: 0.1830 - val_loss: 0.3636 - val_acc: 0.8532 - val_mae: 0.1958\n",
            "Epoch 54/250\n",
            "235/235 [==============================] - 1s 3ms/step - loss: 0.2964 - acc: 0.8780 - mae: 0.1804 - val_loss: 0.3634 - val_acc: 0.8516 - val_mae: 0.1947\n",
            "Epoch 55/250\n",
            "235/235 [==============================] - 1s 3ms/step - loss: 0.2965 - acc: 0.8789 - mae: 0.1818 - val_loss: 0.3682 - val_acc: 0.8488 - val_mae: 0.2001\n",
            "Epoch 56/250\n",
            "235/235 [==============================] - 1s 3ms/step - loss: 0.2937 - acc: 0.8824 - mae: 0.1792 - val_loss: 0.3700 - val_acc: 0.8476 - val_mae: 0.2130\n",
            "Epoch 57/250\n",
            "235/235 [==============================] - 1s 3ms/step - loss: 0.2944 - acc: 0.8821 - mae: 0.1796 - val_loss: 0.3683 - val_acc: 0.8504 - val_mae: 0.1938\n",
            "Epoch 58/250\n",
            "235/235 [==============================] - 1s 3ms/step - loss: 0.2969 - acc: 0.8795 - mae: 0.1811 - val_loss: 0.3706 - val_acc: 0.8492 - val_mae: 0.2040\n",
            "Epoch 59/250\n",
            "235/235 [==============================] - 1s 3ms/step - loss: 0.2936 - acc: 0.8805 - mae: 0.1798 - val_loss: 0.3730 - val_acc: 0.8472 - val_mae: 0.2051\n",
            "Epoch 60/250\n",
            "235/235 [==============================] - 1s 3ms/step - loss: 0.2923 - acc: 0.8796 - mae: 0.1788 - val_loss: 0.3670 - val_acc: 0.8504 - val_mae: 0.2031\n",
            "Epoch 61/250\n",
            "235/235 [==============================] - 1s 3ms/step - loss: 0.2899 - acc: 0.8811 - mae: 0.1782 - val_loss: 0.3656 - val_acc: 0.8500 - val_mae: 0.2017\n",
            "Epoch 62/250\n",
            "235/235 [==============================] - 1s 3ms/step - loss: 0.2887 - acc: 0.8820 - mae: 0.1768 - val_loss: 0.3684 - val_acc: 0.8496 - val_mae: 0.2020\n",
            "Epoch 63/250\n",
            "235/235 [==============================] - 1s 3ms/step - loss: 0.2882 - acc: 0.8823 - mae: 0.1768 - val_loss: 0.3808 - val_acc: 0.8380 - val_mae: 0.2269\n",
            "Epoch 64/250\n",
            "235/235 [==============================] - 1s 3ms/step - loss: 0.2896 - acc: 0.8816 - mae: 0.1777 - val_loss: 0.3809 - val_acc: 0.8468 - val_mae: 0.2109\n",
            "Epoch 65/250\n",
            "235/235 [==============================] - 1s 3ms/step - loss: 0.2857 - acc: 0.8860 - mae: 0.1758 - val_loss: 0.3810 - val_acc: 0.8496 - val_mae: 0.1970\n",
            "Epoch 66/250\n",
            "235/235 [==============================] - 1s 5ms/step - loss: 0.2859 - acc: 0.8829 - mae: 0.1753 - val_loss: 0.3879 - val_acc: 0.8392 - val_mae: 0.2127\n",
            "Epoch 67/250\n",
            "235/235 [==============================] - 1s 5ms/step - loss: 0.2849 - acc: 0.8851 - mae: 0.1754 - val_loss: 0.3731 - val_acc: 0.8468 - val_mae: 0.1997\n",
            "Epoch 68/250\n",
            "235/235 [==============================] - 1s 4ms/step - loss: 0.2856 - acc: 0.8847 - mae: 0.1741 - val_loss: 0.3798 - val_acc: 0.8380 - val_mae: 0.2139\n",
            "Epoch 69/250\n",
            "235/235 [==============================] - 1s 5ms/step - loss: 0.2836 - acc: 0.8835 - mae: 0.1734 - val_loss: 0.3871 - val_acc: 0.8400 - val_mae: 0.2225\n",
            "Epoch 70/250\n",
            "235/235 [==============================] - 1s 3ms/step - loss: 0.2806 - acc: 0.8844 - mae: 0.1738 - val_loss: 0.3752 - val_acc: 0.8504 - val_mae: 0.1921\n",
            "Epoch 71/250\n",
            "235/235 [==============================] - 1s 3ms/step - loss: 0.2829 - acc: 0.8852 - mae: 0.1734 - val_loss: 0.3852 - val_acc: 0.8384 - val_mae: 0.2103\n",
            "Epoch 72/250\n",
            "235/235 [==============================] - 1s 3ms/step - loss: 0.2787 - acc: 0.8869 - mae: 0.1713 - val_loss: 0.3908 - val_acc: 0.8320 - val_mae: 0.2232\n",
            "Epoch 73/250\n",
            "235/235 [==============================] - 1s 3ms/step - loss: 0.2794 - acc: 0.8825 - mae: 0.1715 - val_loss: 0.3730 - val_acc: 0.8480 - val_mae: 0.2059\n",
            "Epoch 74/250\n",
            "235/235 [==============================] - 1s 3ms/step - loss: 0.2787 - acc: 0.8877 - mae: 0.1708 - val_loss: 0.3795 - val_acc: 0.8516 - val_mae: 0.1956\n",
            "Epoch 75/250\n",
            "235/235 [==============================] - 1s 3ms/step - loss: 0.2772 - acc: 0.8863 - mae: 0.1712 - val_loss: 0.3755 - val_acc: 0.8472 - val_mae: 0.2014\n",
            "Epoch 76/250\n",
            "235/235 [==============================] - 1s 3ms/step - loss: 0.2766 - acc: 0.8881 - mae: 0.1704 - val_loss: 0.3841 - val_acc: 0.8444 - val_mae: 0.2056\n",
            "Epoch 77/250\n",
            "235/235 [==============================] - 1s 3ms/step - loss: 0.2754 - acc: 0.8881 - mae: 0.1688 - val_loss: 0.3918 - val_acc: 0.8480 - val_mae: 0.1927\n",
            "Epoch 78/250\n",
            "235/235 [==============================] - 1s 3ms/step - loss: 0.2733 - acc: 0.8895 - mae: 0.1687 - val_loss: 0.3916 - val_acc: 0.8468 - val_mae: 0.1963\n",
            "Epoch 79/250\n",
            "235/235 [==============================] - 1s 3ms/step - loss: 0.2720 - acc: 0.8857 - mae: 0.1680 - val_loss: 0.3876 - val_acc: 0.8424 - val_mae: 0.2032\n",
            "Epoch 80/250\n",
            "235/235 [==============================] - 1s 3ms/step - loss: 0.2734 - acc: 0.8860 - mae: 0.1690 - val_loss: 0.3812 - val_acc: 0.8532 - val_mae: 0.1941\n",
            "Epoch 81/250\n",
            "235/235 [==============================] - 1s 3ms/step - loss: 0.2701 - acc: 0.8884 - mae: 0.1672 - val_loss: 0.4001 - val_acc: 0.8356 - val_mae: 0.2113\n",
            "Epoch 82/250\n",
            "235/235 [==============================] - 1s 3ms/step - loss: 0.2708 - acc: 0.8873 - mae: 0.1667 - val_loss: 0.3874 - val_acc: 0.8424 - val_mae: 0.2033\n",
            "Epoch 83/250\n",
            "235/235 [==============================] - 1s 3ms/step - loss: 0.2677 - acc: 0.8912 - mae: 0.1654 - val_loss: 0.3971 - val_acc: 0.8436 - val_mae: 0.2034\n",
            "Epoch 84/250\n",
            "235/235 [==============================] - 1s 4ms/step - loss: 0.2665 - acc: 0.8908 - mae: 0.1645 - val_loss: 0.3896 - val_acc: 0.8480 - val_mae: 0.1993\n",
            "Epoch 85/250\n",
            "235/235 [==============================] - 1s 5ms/step - loss: 0.2681 - acc: 0.8899 - mae: 0.1654 - val_loss: 0.3904 - val_acc: 0.8516 - val_mae: 0.1925\n",
            "Epoch 86/250\n",
            "235/235 [==============================] - 1s 5ms/step - loss: 0.2667 - acc: 0.8925 - mae: 0.1637 - val_loss: 0.3958 - val_acc: 0.8508 - val_mae: 0.1972\n",
            "Epoch 87/250\n",
            "235/235 [==============================] - 1s 4ms/step - loss: 0.2645 - acc: 0.8908 - mae: 0.1643 - val_loss: 0.4015 - val_acc: 0.8500 - val_mae: 0.1890\n",
            "Epoch 88/250\n",
            "235/235 [==============================] - 1s 3ms/step - loss: 0.2642 - acc: 0.8932 - mae: 0.1636 - val_loss: 0.4035 - val_acc: 0.8492 - val_mae: 0.1830\n",
            "Epoch 89/250\n",
            "235/235 [==============================] - 1s 3ms/step - loss: 0.2632 - acc: 0.8919 - mae: 0.1620 - val_loss: 0.3954 - val_acc: 0.8496 - val_mae: 0.1921\n",
            "Epoch 90/250\n",
            "235/235 [==============================] - 1s 3ms/step - loss: 0.2623 - acc: 0.8949 - mae: 0.1618 - val_loss: 0.4028 - val_acc: 0.8452 - val_mae: 0.2000\n",
            "Epoch 91/250\n",
            "235/235 [==============================] - 1s 3ms/step - loss: 0.2603 - acc: 0.8933 - mae: 0.1607 - val_loss: 0.4109 - val_acc: 0.8392 - val_mae: 0.2026\n",
            "Epoch 92/250\n",
            "235/235 [==============================] - 1s 3ms/step - loss: 0.2606 - acc: 0.8928 - mae: 0.1611 - val_loss: 0.4034 - val_acc: 0.8464 - val_mae: 0.1978\n",
            "Epoch 93/250\n",
            "235/235 [==============================] - 1s 3ms/step - loss: 0.2586 - acc: 0.8957 - mae: 0.1601 - val_loss: 0.4061 - val_acc: 0.8424 - val_mae: 0.2043\n",
            "Epoch 94/250\n",
            "235/235 [==============================] - 1s 3ms/step - loss: 0.2599 - acc: 0.8933 - mae: 0.1600 - val_loss: 0.4008 - val_acc: 0.8488 - val_mae: 0.1929\n",
            "Epoch 95/250\n",
            "235/235 [==============================] - 1s 3ms/step - loss: 0.2593 - acc: 0.8916 - mae: 0.1597 - val_loss: 0.4006 - val_acc: 0.8460 - val_mae: 0.2073\n",
            "Epoch 96/250\n",
            "235/235 [==============================] - 1s 3ms/step - loss: 0.2557 - acc: 0.8959 - mae: 0.1589 - val_loss: 0.4230 - val_acc: 0.8456 - val_mae: 0.1918\n",
            "Epoch 97/250\n",
            "235/235 [==============================] - 1s 3ms/step - loss: 0.2546 - acc: 0.8951 - mae: 0.1582 - val_loss: 0.4053 - val_acc: 0.8452 - val_mae: 0.1909\n",
            "Epoch 98/250\n",
            "235/235 [==============================] - 1s 3ms/step - loss: 0.2542 - acc: 0.8971 - mae: 0.1577 - val_loss: 0.4096 - val_acc: 0.8508 - val_mae: 0.1914\n",
            "Epoch 99/250\n",
            "235/235 [==============================] - 1s 3ms/step - loss: 0.2526 - acc: 0.8956 - mae: 0.1564 - val_loss: 0.4197 - val_acc: 0.8424 - val_mae: 0.1980\n",
            "Epoch 100/250\n",
            "235/235 [==============================] - 1s 3ms/step - loss: 0.2538 - acc: 0.8967 - mae: 0.1579 - val_loss: 0.4169 - val_acc: 0.8448 - val_mae: 0.2008\n",
            "Epoch 101/250\n",
            "235/235 [==============================] - 1s 3ms/step - loss: 0.2517 - acc: 0.8956 - mae: 0.1570 - val_loss: 0.4168 - val_acc: 0.8520 - val_mae: 0.1846\n",
            "Epoch 102/250\n",
            "235/235 [==============================] - 1s 4ms/step - loss: 0.2489 - acc: 0.8989 - mae: 0.1544 - val_loss: 0.4070 - val_acc: 0.8480 - val_mae: 0.1959\n",
            "Epoch 103/250\n",
            "235/235 [==============================] - 1s 5ms/step - loss: 0.2496 - acc: 0.8988 - mae: 0.1545 - val_loss: 0.4132 - val_acc: 0.8456 - val_mae: 0.2003\n",
            "Epoch 104/250\n",
            "235/235 [==============================] - 1s 4ms/step - loss: 0.2478 - acc: 0.8983 - mae: 0.1550 - val_loss: 0.4217 - val_acc: 0.8504 - val_mae: 0.1954\n",
            "Epoch 105/250\n",
            "235/235 [==============================] - 1s 5ms/step - loss: 0.2464 - acc: 0.8975 - mae: 0.1530 - val_loss: 0.4214 - val_acc: 0.8484 - val_mae: 0.1977\n",
            "Epoch 106/250\n",
            "235/235 [==============================] - 1s 3ms/step - loss: 0.2477 - acc: 0.8984 - mae: 0.1543 - val_loss: 0.4141 - val_acc: 0.8496 - val_mae: 0.1940\n",
            "Epoch 107/250\n",
            "235/235 [==============================] - 1s 3ms/step - loss: 0.2463 - acc: 0.8981 - mae: 0.1520 - val_loss: 0.4142 - val_acc: 0.8428 - val_mae: 0.2007\n",
            "Epoch 108/250\n",
            "235/235 [==============================] - 1s 3ms/step - loss: 0.2448 - acc: 0.9009 - mae: 0.1524 - val_loss: 0.4202 - val_acc: 0.8472 - val_mae: 0.1919\n",
            "Epoch 109/250\n",
            "235/235 [==============================] - 1s 3ms/step - loss: 0.2423 - acc: 0.8992 - mae: 0.1504 - val_loss: 0.4226 - val_acc: 0.8396 - val_mae: 0.2034\n",
            "Epoch 110/250\n",
            "235/235 [==============================] - 1s 3ms/step - loss: 0.2445 - acc: 0.9008 - mae: 0.1522 - val_loss: 0.4293 - val_acc: 0.8420 - val_mae: 0.1949\n",
            "Epoch 111/250\n",
            "235/235 [==============================] - 1s 3ms/step - loss: 0.2434 - acc: 0.8981 - mae: 0.1508 - val_loss: 0.4327 - val_acc: 0.8456 - val_mae: 0.2000\n",
            "Epoch 112/250\n",
            "235/235 [==============================] - 1s 3ms/step - loss: 0.2379 - acc: 0.9045 - mae: 0.1492 - val_loss: 0.4309 - val_acc: 0.8492 - val_mae: 0.1951\n",
            "Epoch 113/250\n",
            "235/235 [==============================] - 1s 3ms/step - loss: 0.2394 - acc: 0.9024 - mae: 0.1488 - val_loss: 0.4300 - val_acc: 0.8472 - val_mae: 0.1932\n",
            "Epoch 114/250\n",
            "235/235 [==============================] - 1s 3ms/step - loss: 0.2380 - acc: 0.9020 - mae: 0.1480 - val_loss: 0.4447 - val_acc: 0.8344 - val_mae: 0.2099\n",
            "Epoch 115/250\n",
            "235/235 [==============================] - 1s 3ms/step - loss: 0.2408 - acc: 0.9009 - mae: 0.1502 - val_loss: 0.4346 - val_acc: 0.8420 - val_mae: 0.1965\n",
            "Epoch 116/250\n",
            "235/235 [==============================] - 1s 3ms/step - loss: 0.2358 - acc: 0.9039 - mae: 0.1466 - val_loss: 0.4357 - val_acc: 0.8436 - val_mae: 0.2009\n",
            "Epoch 117/250\n",
            "235/235 [==============================] - 1s 3ms/step - loss: 0.2336 - acc: 0.9040 - mae: 0.1462 - val_loss: 0.4357 - val_acc: 0.8492 - val_mae: 0.1921\n",
            "Epoch 118/250\n",
            "235/235 [==============================] - 1s 3ms/step - loss: 0.2362 - acc: 0.9007 - mae: 0.1463 - val_loss: 0.4395 - val_acc: 0.8412 - val_mae: 0.2022\n",
            "Epoch 119/250\n",
            "235/235 [==============================] - 1s 3ms/step - loss: 0.2352 - acc: 0.9043 - mae: 0.1463 - val_loss: 0.4465 - val_acc: 0.8392 - val_mae: 0.2002\n",
            "Epoch 120/250\n",
            "235/235 [==============================] - 1s 5ms/step - loss: 0.2323 - acc: 0.9056 - mae: 0.1462 - val_loss: 0.4461 - val_acc: 0.8472 - val_mae: 0.1935\n",
            "Epoch 121/250\n",
            "235/235 [==============================] - 1s 5ms/step - loss: 0.2320 - acc: 0.9027 - mae: 0.1438 - val_loss: 0.4881 - val_acc: 0.8196 - val_mae: 0.2267\n",
            "Epoch 122/250\n",
            "235/235 [==============================] - 1s 4ms/step - loss: 0.2307 - acc: 0.9065 - mae: 0.1438 - val_loss: 0.4440 - val_acc: 0.8372 - val_mae: 0.2047\n",
            "Epoch 123/250\n",
            "235/235 [==============================] - 1s 6ms/step - loss: 0.2315 - acc: 0.9056 - mae: 0.1436 - val_loss: 0.4461 - val_acc: 0.8440 - val_mae: 0.1932\n",
            "Epoch 124/250\n",
            "235/235 [==============================] - 1s 3ms/step - loss: 0.2276 - acc: 0.9072 - mae: 0.1426 - val_loss: 0.4668 - val_acc: 0.8344 - val_mae: 0.2094\n",
            "Epoch 125/250\n",
            "235/235 [==============================] - 1s 3ms/step - loss: 0.2294 - acc: 0.9069 - mae: 0.1425 - val_loss: 0.4676 - val_acc: 0.8300 - val_mae: 0.2102\n",
            "Epoch 126/250\n",
            "235/235 [==============================] - 1s 3ms/step - loss: 0.2288 - acc: 0.9056 - mae: 0.1430 - val_loss: 0.4485 - val_acc: 0.8444 - val_mae: 0.1908\n",
            "Epoch 127/250\n",
            "235/235 [==============================] - 1s 3ms/step - loss: 0.2231 - acc: 0.9109 - mae: 0.1400 - val_loss: 0.4633 - val_acc: 0.8416 - val_mae: 0.1979\n",
            "Epoch 128/250\n",
            "235/235 [==============================] - 1s 3ms/step - loss: 0.2282 - acc: 0.9057 - mae: 0.1419 - val_loss: 0.4535 - val_acc: 0.8348 - val_mae: 0.2076\n",
            "Epoch 129/250\n",
            "235/235 [==============================] - 1s 3ms/step - loss: 0.2227 - acc: 0.9104 - mae: 0.1398 - val_loss: 0.4696 - val_acc: 0.8436 - val_mae: 0.1927\n",
            "Epoch 130/250\n",
            "235/235 [==============================] - 1s 3ms/step - loss: 0.2241 - acc: 0.9067 - mae: 0.1401 - val_loss: 0.4662 - val_acc: 0.8508 - val_mae: 0.1878\n",
            "Epoch 131/250\n",
            "235/235 [==============================] - 1s 3ms/step - loss: 0.2205 - acc: 0.9103 - mae: 0.1384 - val_loss: 0.4683 - val_acc: 0.8436 - val_mae: 0.1976\n",
            "Epoch 132/250\n",
            "235/235 [==============================] - 1s 3ms/step - loss: 0.2230 - acc: 0.9060 - mae: 0.1389 - val_loss: 0.4458 - val_acc: 0.8392 - val_mae: 0.2040\n",
            "Epoch 133/250\n",
            "235/235 [==============================] - 1s 4ms/step - loss: 0.2211 - acc: 0.9117 - mae: 0.1391 - val_loss: 0.4785 - val_acc: 0.8332 - val_mae: 0.2033\n",
            "Epoch 134/250\n",
            "235/235 [==============================] - 1s 3ms/step - loss: 0.2195 - acc: 0.9083 - mae: 0.1382 - val_loss: 0.4767 - val_acc: 0.8436 - val_mae: 0.1857\n",
            "Epoch 135/250\n",
            "235/235 [==============================] - 1s 3ms/step - loss: 0.2222 - acc: 0.9075 - mae: 0.1385 - val_loss: 0.4815 - val_acc: 0.8408 - val_mae: 0.1960\n",
            "Epoch 136/250\n",
            "235/235 [==============================] - 1s 4ms/step - loss: 0.2180 - acc: 0.9101 - mae: 0.1377 - val_loss: 0.4732 - val_acc: 0.8388 - val_mae: 0.1975\n",
            "Epoch 137/250\n",
            "235/235 [==============================] - 1s 5ms/step - loss: 0.2173 - acc: 0.9087 - mae: 0.1362 - val_loss: 0.4811 - val_acc: 0.8284 - val_mae: 0.2099\n",
            "Epoch 138/250\n",
            "235/235 [==============================] - 2s 10ms/step - loss: 0.2131 - acc: 0.9119 - mae: 0.1336 - val_loss: 0.4760 - val_acc: 0.8428 - val_mae: 0.1975\n",
            "Epoch 139/250\n",
            "235/235 [==============================] - 2s 7ms/step - loss: 0.2134 - acc: 0.9116 - mae: 0.1350 - val_loss: 0.4807 - val_acc: 0.8408 - val_mae: 0.1901\n",
            "Epoch 140/250\n",
            "235/235 [==============================] - 1s 3ms/step - loss: 0.2124 - acc: 0.9120 - mae: 0.1335 - val_loss: 0.4885 - val_acc: 0.8428 - val_mae: 0.1866\n",
            "Epoch 141/250\n",
            "235/235 [==============================] - 1s 3ms/step - loss: 0.2125 - acc: 0.9111 - mae: 0.1333 - val_loss: 0.4861 - val_acc: 0.8372 - val_mae: 0.2002\n",
            "Epoch 142/250\n",
            "235/235 [==============================] - 1s 3ms/step - loss: 0.2125 - acc: 0.9103 - mae: 0.1337 - val_loss: 0.4885 - val_acc: 0.8380 - val_mae: 0.1946\n",
            "Epoch 143/250\n",
            "235/235 [==============================] - 1s 3ms/step - loss: 0.2108 - acc: 0.9137 - mae: 0.1313 - val_loss: 0.5027 - val_acc: 0.8232 - val_mae: 0.2173\n",
            "Epoch 144/250\n",
            "235/235 [==============================] - 1s 3ms/step - loss: 0.2106 - acc: 0.9151 - mae: 0.1321 - val_loss: 0.4915 - val_acc: 0.8396 - val_mae: 0.1998\n",
            "Epoch 145/250\n",
            "235/235 [==============================] - 1s 3ms/step - loss: 0.2096 - acc: 0.9135 - mae: 0.1316 - val_loss: 0.4951 - val_acc: 0.8436 - val_mae: 0.1841\n",
            "Epoch 146/250\n",
            "235/235 [==============================] - 1s 3ms/step - loss: 0.2043 - acc: 0.9161 - mae: 0.1302 - val_loss: 0.5089 - val_acc: 0.8320 - val_mae: 0.2049\n",
            "Epoch 147/250\n",
            "235/235 [==============================] - 1s 3ms/step - loss: 0.2078 - acc: 0.9179 - mae: 0.1306 - val_loss: 0.5090 - val_acc: 0.8388 - val_mae: 0.1928\n",
            "Epoch 148/250\n",
            "235/235 [==============================] - 1s 3ms/step - loss: 0.2054 - acc: 0.9171 - mae: 0.1287 - val_loss: 0.4902 - val_acc: 0.8388 - val_mae: 0.1998\n",
            "Epoch 149/250\n",
            "235/235 [==============================] - 1s 3ms/step - loss: 0.2010 - acc: 0.9184 - mae: 0.1279 - val_loss: 0.5097 - val_acc: 0.8364 - val_mae: 0.1934\n",
            "Epoch 150/250\n",
            "235/235 [==============================] - 1s 3ms/step - loss: 0.2031 - acc: 0.9185 - mae: 0.1285 - val_loss: 0.4943 - val_acc: 0.8360 - val_mae: 0.1929\n",
            "Epoch 151/250\n",
            "235/235 [==============================] - 1s 3ms/step - loss: 0.2041 - acc: 0.9171 - mae: 0.1279 - val_loss: 0.5105 - val_acc: 0.8320 - val_mae: 0.2028\n",
            "Epoch 152/250\n",
            "235/235 [==============================] - 1s 3ms/step - loss: 0.2020 - acc: 0.9160 - mae: 0.1282 - val_loss: 0.5155 - val_acc: 0.8456 - val_mae: 0.1908\n",
            "Epoch 153/250\n",
            "235/235 [==============================] - 1s 4ms/step - loss: 0.2057 - acc: 0.9111 - mae: 0.1299 - val_loss: 0.5226 - val_acc: 0.8408 - val_mae: 0.1955\n",
            "Epoch 154/250\n",
            "235/235 [==============================] - 1s 5ms/step - loss: 0.2026 - acc: 0.9183 - mae: 0.1269 - val_loss: 0.5374 - val_acc: 0.8376 - val_mae: 0.1917\n",
            "Epoch 155/250\n",
            "235/235 [==============================] - 1s 5ms/step - loss: 0.1968 - acc: 0.9183 - mae: 0.1242 - val_loss: 0.5262 - val_acc: 0.8252 - val_mae: 0.2119\n",
            "Epoch 156/250\n",
            "235/235 [==============================] - 1s 5ms/step - loss: 0.1976 - acc: 0.9175 - mae: 0.1263 - val_loss: 0.5288 - val_acc: 0.8356 - val_mae: 0.1971\n",
            "Epoch 157/250\n",
            "235/235 [==============================] - 1s 3ms/step - loss: 0.2028 - acc: 0.9148 - mae: 0.1265 - val_loss: 0.5064 - val_acc: 0.8364 - val_mae: 0.2005\n",
            "Epoch 158/250\n",
            "235/235 [==============================] - 1s 3ms/step - loss: 0.1946 - acc: 0.9203 - mae: 0.1238 - val_loss: 0.5376 - val_acc: 0.8368 - val_mae: 0.1986\n",
            "Epoch 159/250\n",
            "235/235 [==============================] - 1s 3ms/step - loss: 0.1960 - acc: 0.9192 - mae: 0.1238 - val_loss: 0.5266 - val_acc: 0.8400 - val_mae: 0.1938\n",
            "Epoch 160/250\n",
            "235/235 [==============================] - 1s 3ms/step - loss: 0.1949 - acc: 0.9176 - mae: 0.1242 - val_loss: 0.5484 - val_acc: 0.8432 - val_mae: 0.1826\n",
            "Epoch 161/250\n",
            "235/235 [==============================] - 1s 3ms/step - loss: 0.1971 - acc: 0.9173 - mae: 0.1242 - val_loss: 0.5359 - val_acc: 0.8300 - val_mae: 0.2047\n",
            "Epoch 162/250\n",
            "235/235 [==============================] - 1s 3ms/step - loss: 0.1934 - acc: 0.9219 - mae: 0.1222 - val_loss: 0.5317 - val_acc: 0.8368 - val_mae: 0.2039\n",
            "Epoch 163/250\n",
            "235/235 [==============================] - 1s 3ms/step - loss: 0.1949 - acc: 0.9201 - mae: 0.1236 - val_loss: 0.5508 - val_acc: 0.8388 - val_mae: 0.1909\n",
            "Epoch 164/250\n",
            "235/235 [==============================] - 1s 3ms/step - loss: 0.1928 - acc: 0.9200 - mae: 0.1220 - val_loss: 0.5521 - val_acc: 0.8336 - val_mae: 0.1978\n",
            "Epoch 165/250\n",
            "235/235 [==============================] - 1s 3ms/step - loss: 0.1929 - acc: 0.9216 - mae: 0.1210 - val_loss: 0.5538 - val_acc: 0.8240 - val_mae: 0.2089\n",
            "Epoch 166/250\n",
            "235/235 [==============================] - 1s 3ms/step - loss: 0.1917 - acc: 0.9204 - mae: 0.1210 - val_loss: 0.5452 - val_acc: 0.8376 - val_mae: 0.1904\n",
            "Epoch 167/250\n",
            "235/235 [==============================] - 1s 3ms/step - loss: 0.1884 - acc: 0.9207 - mae: 0.1205 - val_loss: 0.5567 - val_acc: 0.8328 - val_mae: 0.2020\n",
            "Epoch 168/250\n",
            "235/235 [==============================] - 1s 3ms/step - loss: 0.1925 - acc: 0.9187 - mae: 0.1209 - val_loss: 0.5643 - val_acc: 0.8328 - val_mae: 0.1895\n",
            "Epoch 169/250\n",
            "235/235 [==============================] - 1s 3ms/step - loss: 0.1901 - acc: 0.9231 - mae: 0.1199 - val_loss: 0.5542 - val_acc: 0.8388 - val_mae: 0.1954\n",
            "Epoch 170/250\n",
            "235/235 [==============================] - 1s 3ms/step - loss: 0.1943 - acc: 0.9212 - mae: 0.1214 - val_loss: 0.5795 - val_acc: 0.8344 - val_mae: 0.1974\n",
            "Epoch 171/250\n",
            "235/235 [==============================] - 1s 3ms/step - loss: 0.1892 - acc: 0.9229 - mae: 0.1193 - val_loss: 0.5619 - val_acc: 0.8420 - val_mae: 0.1852\n",
            "Epoch 172/250\n",
            "235/235 [==============================] - 1s 4ms/step - loss: 0.1848 - acc: 0.9231 - mae: 0.1175 - val_loss: 0.5733 - val_acc: 0.8340 - val_mae: 0.1913\n",
            "Epoch 173/250\n",
            "235/235 [==============================] - 1s 5ms/step - loss: 0.1830 - acc: 0.9252 - mae: 0.1159 - val_loss: 0.5711 - val_acc: 0.8416 - val_mae: 0.1871\n",
            "Epoch 174/250\n",
            "235/235 [==============================] - 1s 5ms/step - loss: 0.1825 - acc: 0.9241 - mae: 0.1169 - val_loss: 0.5706 - val_acc: 0.8232 - val_mae: 0.2054\n",
            "Epoch 175/250\n",
            "235/235 [==============================] - 1s 5ms/step - loss: 0.1831 - acc: 0.9216 - mae: 0.1172 - val_loss: 0.5974 - val_acc: 0.8328 - val_mae: 0.1980\n",
            "Epoch 176/250\n",
            "235/235 [==============================] - 1s 3ms/step - loss: 0.1788 - acc: 0.9263 - mae: 0.1151 - val_loss: 0.5740 - val_acc: 0.8412 - val_mae: 0.1819\n",
            "Epoch 177/250\n",
            "235/235 [==============================] - 1s 3ms/step - loss: 0.1796 - acc: 0.9253 - mae: 0.1149 - val_loss: 0.5788 - val_acc: 0.8228 - val_mae: 0.2029\n",
            "Epoch 178/250\n",
            "235/235 [==============================] - 1s 3ms/step - loss: 0.1809 - acc: 0.9248 - mae: 0.1159 - val_loss: 0.5933 - val_acc: 0.8428 - val_mae: 0.1812\n",
            "Epoch 179/250\n",
            "235/235 [==============================] - 1s 3ms/step - loss: 0.1834 - acc: 0.9252 - mae: 0.1152 - val_loss: 0.5794 - val_acc: 0.8192 - val_mae: 0.2088\n",
            "Epoch 180/250\n",
            "235/235 [==============================] - 1s 3ms/step - loss: 0.1784 - acc: 0.9260 - mae: 0.1133 - val_loss: 0.5870 - val_acc: 0.8332 - val_mae: 0.1989\n",
            "Epoch 181/250\n",
            "235/235 [==============================] - 1s 3ms/step - loss: 0.1837 - acc: 0.9261 - mae: 0.1149 - val_loss: 0.6108 - val_acc: 0.8252 - val_mae: 0.2028\n",
            "Epoch 182/250\n",
            "235/235 [==============================] - 1s 3ms/step - loss: 0.1845 - acc: 0.9227 - mae: 0.1155 - val_loss: 0.5890 - val_acc: 0.8252 - val_mae: 0.2008\n",
            "Epoch 183/250\n",
            "235/235 [==============================] - 1s 3ms/step - loss: 0.1775 - acc: 0.9251 - mae: 0.1127 - val_loss: 0.6009 - val_acc: 0.8360 - val_mae: 0.1936\n",
            "Epoch 184/250\n",
            "235/235 [==============================] - 1s 3ms/step - loss: 0.1726 - acc: 0.9288 - mae: 0.1108 - val_loss: 0.5858 - val_acc: 0.8304 - val_mae: 0.1994\n",
            "Epoch 185/250\n",
            "235/235 [==============================] - 1s 3ms/step - loss: 0.1767 - acc: 0.9272 - mae: 0.1129 - val_loss: 0.6133 - val_acc: 0.8196 - val_mae: 0.2114\n",
            "Epoch 186/250\n",
            "235/235 [==============================] - 1s 3ms/step - loss: 0.1745 - acc: 0.9283 - mae: 0.1112 - val_loss: 0.6278 - val_acc: 0.8252 - val_mae: 0.2045\n",
            "Epoch 187/250\n",
            "235/235 [==============================] - 1s 3ms/step - loss: 0.1738 - acc: 0.9285 - mae: 0.1114 - val_loss: 0.6063 - val_acc: 0.8272 - val_mae: 0.1981\n",
            "Epoch 188/250\n",
            "235/235 [==============================] - 1s 3ms/step - loss: 0.1748 - acc: 0.9272 - mae: 0.1116 - val_loss: 0.6067 - val_acc: 0.8228 - val_mae: 0.2051\n",
            "Epoch 189/250\n",
            "235/235 [==============================] - 1s 3ms/step - loss: 0.1672 - acc: 0.9296 - mae: 0.1092 - val_loss: 0.6181 - val_acc: 0.8312 - val_mae: 0.1930\n",
            "Epoch 190/250\n",
            "235/235 [==============================] - 1s 4ms/step - loss: 0.1724 - acc: 0.9301 - mae: 0.1105 - val_loss: 0.6570 - val_acc: 0.8452 - val_mae: 0.1759\n",
            "Epoch 191/250\n",
            "235/235 [==============================] - 1s 4ms/step - loss: 0.1721 - acc: 0.9261 - mae: 0.1088 - val_loss: 0.6167 - val_acc: 0.8344 - val_mae: 0.1949\n",
            "Epoch 192/250\n",
            "235/235 [==============================] - 1s 4ms/step - loss: 0.1703 - acc: 0.9279 - mae: 0.1093 - val_loss: 0.6416 - val_acc: 0.8176 - val_mae: 0.2178\n",
            "Epoch 193/250\n",
            "235/235 [==============================] - 1s 5ms/step - loss: 0.1751 - acc: 0.9281 - mae: 0.1108 - val_loss: 0.6624 - val_acc: 0.8296 - val_mae: 0.1983\n",
            "Epoch 194/250\n",
            "235/235 [==============================] - 1s 5ms/step - loss: 0.1686 - acc: 0.9291 - mae: 0.1068 - val_loss: 0.6221 - val_acc: 0.8300 - val_mae: 0.1956\n",
            "Epoch 195/250\n",
            "235/235 [==============================] - 1s 3ms/step - loss: 0.1691 - acc: 0.9316 - mae: 0.1082 - val_loss: 0.6394 - val_acc: 0.8220 - val_mae: 0.2028\n",
            "Epoch 196/250\n",
            "235/235 [==============================] - 1s 3ms/step - loss: 0.1661 - acc: 0.9337 - mae: 0.1064 - val_loss: 0.6478 - val_acc: 0.8356 - val_mae: 0.1849\n",
            "Epoch 197/250\n",
            "235/235 [==============================] - 1s 3ms/step - loss: 0.1632 - acc: 0.9335 - mae: 0.1044 - val_loss: 0.6397 - val_acc: 0.8300 - val_mae: 0.1949\n",
            "Epoch 198/250\n",
            "235/235 [==============================] - 1s 3ms/step - loss: 0.1698 - acc: 0.9304 - mae: 0.1083 - val_loss: 0.6505 - val_acc: 0.8344 - val_mae: 0.1864\n",
            "Epoch 199/250\n",
            "235/235 [==============================] - 1s 3ms/step - loss: 0.1641 - acc: 0.9321 - mae: 0.1054 - val_loss: 0.6487 - val_acc: 0.8336 - val_mae: 0.1913\n",
            "Epoch 200/250\n",
            "235/235 [==============================] - 1s 3ms/step - loss: 0.1712 - acc: 0.9285 - mae: 0.1085 - val_loss: 0.6566 - val_acc: 0.8348 - val_mae: 0.1900\n",
            "Epoch 201/250\n",
            "235/235 [==============================] - 1s 3ms/step - loss: 0.1598 - acc: 0.9329 - mae: 0.1030 - val_loss: 0.6447 - val_acc: 0.8224 - val_mae: 0.2053\n",
            "Epoch 202/250\n",
            "235/235 [==============================] - 1s 3ms/step - loss: 0.1640 - acc: 0.9315 - mae: 0.1049 - val_loss: 0.6636 - val_acc: 0.8236 - val_mae: 0.2044\n",
            "Epoch 203/250\n",
            "235/235 [==============================] - 1s 3ms/step - loss: 0.1616 - acc: 0.9351 - mae: 0.1039 - val_loss: 0.6695 - val_acc: 0.8188 - val_mae: 0.2044\n",
            "Epoch 204/250\n",
            "235/235 [==============================] - 1s 3ms/step - loss: 0.1581 - acc: 0.9328 - mae: 0.1025 - val_loss: 0.6735 - val_acc: 0.8236 - val_mae: 0.1979\n",
            "Epoch 205/250\n",
            "235/235 [==============================] - 1s 3ms/step - loss: 0.1700 - acc: 0.9279 - mae: 0.1063 - val_loss: 0.6717 - val_acc: 0.8280 - val_mae: 0.1937\n",
            "Epoch 206/250\n",
            "235/235 [==============================] - 1s 3ms/step - loss: 0.1601 - acc: 0.9364 - mae: 0.1028 - val_loss: 0.6901 - val_acc: 0.8360 - val_mae: 0.1827\n",
            "Epoch 207/250\n",
            "235/235 [==============================] - 1s 3ms/step - loss: 0.1586 - acc: 0.9328 - mae: 0.1011 - val_loss: 0.6591 - val_acc: 0.8228 - val_mae: 0.1967\n",
            "Epoch 208/250\n",
            "235/235 [==============================] - 1s 4ms/step - loss: 0.1531 - acc: 0.9373 - mae: 0.0994 - val_loss: 0.7032 - val_acc: 0.8252 - val_mae: 0.1923\n",
            "Epoch 209/250\n",
            "235/235 [==============================] - 1s 5ms/step - loss: 0.1544 - acc: 0.9365 - mae: 0.0996 - val_loss: 0.6924 - val_acc: 0.8144 - val_mae: 0.2025\n",
            "Epoch 210/250\n",
            "235/235 [==============================] - 1s 5ms/step - loss: 0.1587 - acc: 0.9337 - mae: 0.1014 - val_loss: 0.6935 - val_acc: 0.8128 - val_mae: 0.2092\n",
            "Epoch 211/250\n",
            "235/235 [==============================] - 1s 5ms/step - loss: 0.1601 - acc: 0.9325 - mae: 0.1022 - val_loss: 0.6825 - val_acc: 0.8232 - val_mae: 0.2009\n",
            "Epoch 212/250\n",
            "235/235 [==============================] - 1s 4ms/step - loss: 0.1592 - acc: 0.9331 - mae: 0.1016 - val_loss: 0.6957 - val_acc: 0.8200 - val_mae: 0.1994\n",
            "Epoch 213/250\n",
            "235/235 [==============================] - 1s 3ms/step - loss: 0.1539 - acc: 0.9368 - mae: 0.0993 - val_loss: 0.6909 - val_acc: 0.8276 - val_mae: 0.1971\n",
            "Epoch 214/250\n",
            "235/235 [==============================] - 1s 3ms/step - loss: 0.1567 - acc: 0.9349 - mae: 0.0995 - val_loss: 0.6964 - val_acc: 0.8268 - val_mae: 0.1930\n",
            "Epoch 215/250\n",
            "235/235 [==============================] - 1s 3ms/step - loss: 0.1544 - acc: 0.9345 - mae: 0.0990 - val_loss: 0.6973 - val_acc: 0.8036 - val_mae: 0.2070\n",
            "Epoch 216/250\n",
            "235/235 [==============================] - 1s 3ms/step - loss: 0.1500 - acc: 0.9379 - mae: 0.0966 - val_loss: 0.7024 - val_acc: 0.8260 - val_mae: 0.1934\n",
            "Epoch 217/250\n",
            "235/235 [==============================] - 1s 3ms/step - loss: 0.1498 - acc: 0.9365 - mae: 0.0979 - val_loss: 0.7327 - val_acc: 0.8164 - val_mae: 0.2019\n",
            "Epoch 218/250\n",
            "235/235 [==============================] - 1s 3ms/step - loss: 0.1505 - acc: 0.9380 - mae: 0.0970 - val_loss: 0.7172 - val_acc: 0.8312 - val_mae: 0.1927\n",
            "Epoch 219/250\n",
            "235/235 [==============================] - 1s 3ms/step - loss: 0.1490 - acc: 0.9396 - mae: 0.0966 - val_loss: 0.7061 - val_acc: 0.8300 - val_mae: 0.1923\n",
            "Epoch 220/250\n",
            "235/235 [==============================] - 1s 3ms/step - loss: 0.1496 - acc: 0.9391 - mae: 0.0962 - val_loss: 0.7128 - val_acc: 0.8204 - val_mae: 0.1990\n",
            "Epoch 221/250\n",
            "235/235 [==============================] - 1s 3ms/step - loss: 0.1443 - acc: 0.9404 - mae: 0.0941 - val_loss: 0.7020 - val_acc: 0.8200 - val_mae: 0.2051\n",
            "Epoch 222/250\n",
            "235/235 [==============================] - 1s 3ms/step - loss: 0.1466 - acc: 0.9396 - mae: 0.0947 - val_loss: 0.7138 - val_acc: 0.8140 - val_mae: 0.2089\n",
            "Epoch 223/250\n",
            "235/235 [==============================] - 1s 3ms/step - loss: 0.1461 - acc: 0.9393 - mae: 0.0952 - val_loss: 0.7549 - val_acc: 0.8280 - val_mae: 0.1896\n",
            "Epoch 224/250\n",
            "235/235 [==============================] - 1s 3ms/step - loss: 0.1482 - acc: 0.9405 - mae: 0.0951 - val_loss: 0.7284 - val_acc: 0.8216 - val_mae: 0.2030\n",
            "Epoch 225/250\n",
            "235/235 [==============================] - 1s 3ms/step - loss: 0.1508 - acc: 0.9400 - mae: 0.0951 - val_loss: 0.7219 - val_acc: 0.8352 - val_mae: 0.1883\n",
            "Epoch 226/250\n",
            "235/235 [==============================] - 1s 3ms/step - loss: 0.1408 - acc: 0.9443 - mae: 0.0918 - val_loss: 0.7057 - val_acc: 0.8264 - val_mae: 0.1959\n",
            "Epoch 227/250\n",
            "235/235 [==============================] - 1s 4ms/step - loss: 0.1479 - acc: 0.9391 - mae: 0.0959 - val_loss: 0.7578 - val_acc: 0.8216 - val_mae: 0.1963\n",
            "Epoch 228/250\n",
            "235/235 [==============================] - 1s 5ms/step - loss: 0.1480 - acc: 0.9387 - mae: 0.0946 - val_loss: 0.7055 - val_acc: 0.8328 - val_mae: 0.1897\n",
            "Epoch 229/250\n",
            "235/235 [==============================] - 1s 4ms/step - loss: 0.1445 - acc: 0.9361 - mae: 0.0938 - val_loss: 0.7116 - val_acc: 0.8040 - val_mae: 0.2142\n",
            "Epoch 230/250\n",
            "235/235 [==============================] - 1s 4ms/step - loss: 0.1481 - acc: 0.9381 - mae: 0.0928 - val_loss: 0.7457 - val_acc: 0.8180 - val_mae: 0.2017\n",
            "Epoch 231/250\n",
            "235/235 [==============================] - 1s 4ms/step - loss: 0.1396 - acc: 0.9423 - mae: 0.0904 - val_loss: 0.7507 - val_acc: 0.8224 - val_mae: 0.1969\n",
            "Epoch 232/250\n",
            "235/235 [==============================] - 1s 3ms/step - loss: 0.1381 - acc: 0.9416 - mae: 0.0898 - val_loss: 0.7313 - val_acc: 0.8232 - val_mae: 0.1948\n",
            "Epoch 233/250\n",
            "235/235 [==============================] - 1s 3ms/step - loss: 0.1390 - acc: 0.9444 - mae: 0.0896 - val_loss: 0.7305 - val_acc: 0.8212 - val_mae: 0.1998\n",
            "Epoch 234/250\n",
            "235/235 [==============================] - 1s 3ms/step - loss: 0.1366 - acc: 0.9445 - mae: 0.0895 - val_loss: 0.7427 - val_acc: 0.8164 - val_mae: 0.1980\n",
            "Epoch 235/250\n",
            "235/235 [==============================] - 1s 3ms/step - loss: 0.1382 - acc: 0.9428 - mae: 0.0892 - val_loss: 0.7532 - val_acc: 0.8224 - val_mae: 0.1977\n",
            "Epoch 236/250\n",
            "235/235 [==============================] - 1s 3ms/step - loss: 0.1385 - acc: 0.9453 - mae: 0.0895 - val_loss: 0.7543 - val_acc: 0.8292 - val_mae: 0.1929\n",
            "Epoch 237/250\n",
            "235/235 [==============================] - 1s 3ms/step - loss: 0.1341 - acc: 0.9468 - mae: 0.0874 - val_loss: 0.7402 - val_acc: 0.8188 - val_mae: 0.1986\n",
            "Epoch 238/250\n",
            "235/235 [==============================] - 1s 3ms/step - loss: 0.1400 - acc: 0.9411 - mae: 0.0892 - val_loss: 0.7763 - val_acc: 0.8128 - val_mae: 0.2052\n",
            "Epoch 239/250\n",
            "235/235 [==============================] - 1s 3ms/step - loss: 0.1322 - acc: 0.9456 - mae: 0.0867 - val_loss: 0.7650 - val_acc: 0.8264 - val_mae: 0.1992\n",
            "Epoch 240/250\n",
            "235/235 [==============================] - 1s 3ms/step - loss: 0.1331 - acc: 0.9473 - mae: 0.0868 - val_loss: 0.7852 - val_acc: 0.8276 - val_mae: 0.1903\n",
            "Epoch 241/250\n",
            "235/235 [==============================] - 1s 3ms/step - loss: 0.1388 - acc: 0.9415 - mae: 0.0887 - val_loss: 0.7648 - val_acc: 0.8220 - val_mae: 0.1939\n",
            "Epoch 242/250\n",
            "235/235 [==============================] - 1s 3ms/step - loss: 0.1361 - acc: 0.9457 - mae: 0.0861 - val_loss: 0.7885 - val_acc: 0.8108 - val_mae: 0.2091\n",
            "Epoch 243/250\n",
            "235/235 [==============================] - 1s 3ms/step - loss: 0.1397 - acc: 0.9419 - mae: 0.0894 - val_loss: 0.8107 - val_acc: 0.8252 - val_mae: 0.1917\n",
            "Epoch 244/250\n",
            "235/235 [==============================] - 1s 3ms/step - loss: 0.1272 - acc: 0.9503 - mae: 0.0838 - val_loss: 0.8208 - val_acc: 0.8080 - val_mae: 0.2100\n",
            "Epoch 245/250\n",
            "235/235 [==============================] - 1s 4ms/step - loss: 0.1293 - acc: 0.9483 - mae: 0.0841 - val_loss: 0.8268 - val_acc: 0.8136 - val_mae: 0.2049\n",
            "Epoch 246/250\n",
            "235/235 [==============================] - 1s 5ms/step - loss: 0.1361 - acc: 0.9447 - mae: 0.0861 - val_loss: 0.8005 - val_acc: 0.8168 - val_mae: 0.2041\n",
            "Epoch 247/250\n",
            "235/235 [==============================] - 1s 5ms/step - loss: 0.1341 - acc: 0.9445 - mae: 0.0865 - val_loss: 0.8099 - val_acc: 0.8124 - val_mae: 0.1999\n",
            "Epoch 248/250\n",
            "235/235 [==============================] - 1s 4ms/step - loss: 0.1417 - acc: 0.9417 - mae: 0.0883 - val_loss: 0.8319 - val_acc: 0.8120 - val_mae: 0.2019\n",
            "Epoch 249/250\n",
            "235/235 [==============================] - 1s 4ms/step - loss: 0.1337 - acc: 0.9447 - mae: 0.0852 - val_loss: 0.7924 - val_acc: 0.8332 - val_mae: 0.1836\n",
            "Epoch 250/250\n",
            "235/235 [==============================] - 1s 3ms/step - loss: 0.1307 - acc: 0.9467 - mae: 0.0850 - val_loss: 0.8374 - val_acc: 0.8096 - val_mae: 0.2079\n"
          ]
        }
      ]
    },
    {
      "cell_type": "code",
      "source": [
        "# 7.1\n",
        "model.evaluate(X_test,y_test)"
      ],
      "metadata": {
        "id": "E8CUmuEXKsgT",
        "outputId": "3f8d880a-e4d7-43a2-c241-fb7e0532825f",
        "colab": {
          "base_uri": "https://localhost:8080/"
        }
      },
      "execution_count": null,
      "outputs": [
        {
          "output_type": "stream",
          "name": "stdout",
          "text": [
            "79/79 [==============================] - 0s 2ms/step - loss: 0.3359 - acc: 0.8700\n"
          ]
        },
        {
          "output_type": "execute_result",
          "data": {
            "text/plain": [
              "[0.3358922302722931, 0.8700000047683716]"
            ]
          },
          "metadata": {},
          "execution_count": 90
        }
      ]
    },
    {
      "cell_type": "code",
      "source": [
        "type(history.history)"
      ],
      "metadata": {
        "id": "HVfYqFnhtU5G"
      },
      "execution_count": null,
      "outputs": []
    },
    {
      "cell_type": "code",
      "source": [
        "history.history.keys()"
      ],
      "metadata": {
        "colab": {
          "base_uri": "https://localhost:8080/"
        },
        "id": "pnlVFrNftfMd",
        "outputId": "86f53777-d1f7-4f9b-da4c-16282df744c1"
      },
      "execution_count": null,
      "outputs": [
        {
          "output_type": "execute_result",
          "data": {
            "text/plain": [
              "dict_keys(['loss', 'acc', 'val_loss', 'val_acc'])"
            ]
          },
          "metadata": {},
          "execution_count": 85
        }
      ]
    },
    {
      "cell_type": "code",
      "source": [
        "# Plot without dropouts\n",
        "loss = history.history['loss']\n",
        "val_loss = history.history['val_loss']\n",
        "plt.plot(loss)\n",
        "plt.plot(val_loss)"
      ],
      "metadata": {
        "colab": {
          "base_uri": "https://localhost:8080/",
          "height": 283
        },
        "id": "J-tjG6G-s44n",
        "outputId": "b6d29c2c-96c3-47af-91b0-33c7bfa5e062"
      },
      "execution_count": null,
      "outputs": [
        {
          "output_type": "execute_result",
          "data": {
            "text/plain": [
              "[<matplotlib.lines.Line2D at 0x7f8ac24e59d0>]"
            ]
          },
          "metadata": {},
          "execution_count": 86
        },
        {
          "output_type": "execute_result",
          "data": {
            "text/plain": [
              "[<matplotlib.lines.Line2D at 0x7f8ac250f5d0>]"
            ]
          },
          "metadata": {},
          "execution_count": 86
        },
        {
          "output_type": "display_data",
          "data": {
            "text/plain": [
              "<Figure size 432x288 with 1 Axes>"
            ],
            "image/png": "[encoded data removed]"
          },
          "metadata": {
            "needs_background": "light"
          }
        }
      ]
    },
    {
      "cell_type": "code",
      "source": [
        "# plot with dropouts\n",
        "loss = history1.history['loss']\n",
        "val_loss = history1.history['val_loss']\n",
        "plt.plot(loss, label = \"train_loss\")\n",
        "plt.plot(val_loss, label = \"val loss\")\n",
        "plt.legend()"
      ],
      "metadata": {
        "colab": {
          "base_uri": "https://localhost:8080/",
          "height": 283
        },
        "id": "tNBE_vPZt00F",
        "outputId": "1df693c2-3f22-4cd0-8e52-7ec390e198db"
      },
      "execution_count": null,
      "outputs": [
        {
          "output_type": "execute_result",
          "data": {
            "text/plain": [
              "[<matplotlib.lines.Line2D at 0x7f8abdd1f510>]"
            ]
          },
          "metadata": {},
          "execution_count": 89
        },
        {
          "output_type": "execute_result",
          "data": {
            "text/plain": [
              "[<matplotlib.lines.Line2D at 0x7f8abdd1f990>]"
            ]
          },
          "metadata": {},
          "execution_count": 89
        },
        {
          "output_type": "execute_result",
          "data": {
            "text/plain": [
              "<matplotlib.legend.Legend at 0x7f8abdd1f910>"
            ]
          },
          "metadata": {},
          "execution_count": 89
        },
        {
          "output_type": "display_data",
          "data": {
            "text/plain": [
              "<Figure size 432x288 with 1 Axes>"
            ],
            "image/png": "[encoded data removed]"
          },
          "metadata": {
            "needs_background": "light"
          }
        }
      ]
    },
    {
      "cell_type": "code",
      "source": [
        "######################### I am done #################"
      ],
      "metadata": {
        "id": "bzQX6UdZK-E-"
      },
      "execution_count": null,
      "outputs": []
    }
  ]
}